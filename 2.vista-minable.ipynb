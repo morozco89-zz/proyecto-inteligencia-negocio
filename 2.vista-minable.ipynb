{
 "cells": [
  {
   "cell_type": "code",
   "execution_count": 1,
   "metadata": {},
   "outputs": [],
   "source": [
    "import pandas as pd\n",
    "import numpy as np\n",
    "import matplotlib.pyplot as plt\n",
    "\n",
    "%matplotlib inline"
   ]
  },
  {
   "cell_type": "code",
   "execution_count": 2,
   "metadata": {},
   "outputs": [
    {
     "data": {
      "text/html": [
       "<div>\n",
       "<style scoped>\n",
       "    .dataframe tbody tr th:only-of-type {\n",
       "        vertical-align: middle;\n",
       "    }\n",
       "\n",
       "    .dataframe tbody tr th {\n",
       "        vertical-align: top;\n",
       "    }\n",
       "\n",
       "    .dataframe thead th {\n",
       "        text-align: right;\n",
       "    }\n",
       "</style>\n",
       "<table border=\"1\" class=\"dataframe\">\n",
       "  <thead>\n",
       "    <tr style=\"text-align: right;\">\n",
       "      <th></th>\n",
       "      <th>SEGURIDAD_SOCIAL_REGIMEN</th>\n",
       "      <th>PARTICIPA_PROMO_PREVE</th>\n",
       "      <th>CONSULTA_MEDICINA_GENERAL</th>\n",
       "      <th>CONSULTA_MEDICINA_ESPECIALIZADA</th>\n",
       "      <th>CONSULTA_MEDICINA_ALTERNATIVA</th>\n",
       "      <th>CONSULTA</th>\n",
       "      <th>TARGET_ENFERMEDAD_RESPIRATORIA</th>\n",
       "      <th>VIV_HUMEDAD</th>\n",
       "      <th>VIV_GOTERAS</th>\n",
       "      <th>VIV_FALLO_TUBERIAS</th>\n",
       "      <th>...</th>\n",
       "      <th>VIV_ALCANTARILLADO</th>\n",
       "      <th>VIV_RECOLECCION_BASURA</th>\n",
       "      <th>VIV_MATERIAL_PARED</th>\n",
       "      <th>VIV_MATERIAL_PISO</th>\n",
       "      <th>VIV_CERCANIA_FABRICAS</th>\n",
       "      <th>VIV_CERCANIA_BOTADEROS</th>\n",
       "      <th>VIV_CERCANIA_CANO_AGUAS</th>\n",
       "      <th>SECTOR_CONTAMINACION_AIRE</th>\n",
       "      <th>SECTOR_MAL_OLOR</th>\n",
       "      <th>SECTOR_MAL_MANEJO_BASURAS</th>\n",
       "    </tr>\n",
       "  </thead>\n",
       "  <tbody>\n",
       "    <tr>\n",
       "      <td>0</td>\n",
       "      <td>contributivo</td>\n",
       "      <td>NO</td>\n",
       "      <td>SI</td>\n",
       "      <td>NO</td>\n",
       "      <td>NO</td>\n",
       "      <td>NO</td>\n",
       "      <td>NO</td>\n",
       "      <td>NO</td>\n",
       "      <td>NO</td>\n",
       "      <td>NO</td>\n",
       "      <td>...</td>\n",
       "      <td>SI</td>\n",
       "      <td>SI</td>\n",
       "      <td>rustico</td>\n",
       "      <td>baldosa</td>\n",
       "      <td>NO</td>\n",
       "      <td>NO</td>\n",
       "      <td>NO</td>\n",
       "      <td>NO</td>\n",
       "      <td>SI</td>\n",
       "      <td>NO</td>\n",
       "    </tr>\n",
       "    <tr>\n",
       "      <td>1</td>\n",
       "      <td>contributivo</td>\n",
       "      <td>NO</td>\n",
       "      <td>SI</td>\n",
       "      <td>SI</td>\n",
       "      <td>SI</td>\n",
       "      <td>NO</td>\n",
       "      <td>NO</td>\n",
       "      <td>NO</td>\n",
       "      <td>NO</td>\n",
       "      <td>NO</td>\n",
       "      <td>...</td>\n",
       "      <td>SI</td>\n",
       "      <td>SI</td>\n",
       "      <td>rustico</td>\n",
       "      <td>baldosa</td>\n",
       "      <td>NO</td>\n",
       "      <td>NO</td>\n",
       "      <td>NO</td>\n",
       "      <td>NO</td>\n",
       "      <td>SI</td>\n",
       "      <td>NO</td>\n",
       "    </tr>\n",
       "    <tr>\n",
       "      <td>2</td>\n",
       "      <td>contributivo</td>\n",
       "      <td>NO</td>\n",
       "      <td>SI</td>\n",
       "      <td>NO</td>\n",
       "      <td>NO</td>\n",
       "      <td>NO</td>\n",
       "      <td>NO</td>\n",
       "      <td>NO</td>\n",
       "      <td>NO</td>\n",
       "      <td>NO</td>\n",
       "      <td>...</td>\n",
       "      <td>SI</td>\n",
       "      <td>SI</td>\n",
       "      <td>rustico</td>\n",
       "      <td>baldosa</td>\n",
       "      <td>NO</td>\n",
       "      <td>NO</td>\n",
       "      <td>NO</td>\n",
       "      <td>NO</td>\n",
       "      <td>SI</td>\n",
       "      <td>NO</td>\n",
       "    </tr>\n",
       "    <tr>\n",
       "      <td>3</td>\n",
       "      <td>especial</td>\n",
       "      <td>SI</td>\n",
       "      <td>NO</td>\n",
       "      <td>NO</td>\n",
       "      <td>NO</td>\n",
       "      <td>SI</td>\n",
       "      <td>NO</td>\n",
       "      <td>SI</td>\n",
       "      <td>SI</td>\n",
       "      <td>NO</td>\n",
       "      <td>...</td>\n",
       "      <td>SI</td>\n",
       "      <td>SI</td>\n",
       "      <td>rustico</td>\n",
       "      <td>madera_pulida_laca</td>\n",
       "      <td>NO</td>\n",
       "      <td>NO</td>\n",
       "      <td>NO</td>\n",
       "      <td>NO</td>\n",
       "      <td>NO</td>\n",
       "      <td>NO</td>\n",
       "    </tr>\n",
       "    <tr>\n",
       "      <td>4</td>\n",
       "      <td>especial</td>\n",
       "      <td>NO</td>\n",
       "      <td>SI</td>\n",
       "      <td>NO</td>\n",
       "      <td>NO</td>\n",
       "      <td>NO</td>\n",
       "      <td>NO</td>\n",
       "      <td>SI</td>\n",
       "      <td>SI</td>\n",
       "      <td>NO</td>\n",
       "      <td>...</td>\n",
       "      <td>SI</td>\n",
       "      <td>SI</td>\n",
       "      <td>rustico</td>\n",
       "      <td>madera_pulida_laca</td>\n",
       "      <td>NO</td>\n",
       "      <td>NO</td>\n",
       "      <td>NO</td>\n",
       "      <td>NO</td>\n",
       "      <td>NO</td>\n",
       "      <td>NO</td>\n",
       "    </tr>\n",
       "  </tbody>\n",
       "</table>\n",
       "<p>5 rows × 25 columns</p>\n",
       "</div>"
      ],
      "text/plain": [
       "  SEGURIDAD_SOCIAL_REGIMEN PARTICIPA_PROMO_PREVE CONSULTA_MEDICINA_GENERAL  \\\n",
       "0             contributivo                    NO                        SI   \n",
       "1             contributivo                    NO                        SI   \n",
       "2             contributivo                    NO                        SI   \n",
       "3                 especial                    SI                        NO   \n",
       "4                 especial                    NO                        SI   \n",
       "\n",
       "  CONSULTA_MEDICINA_ESPECIALIZADA CONSULTA_MEDICINA_ALTERNATIVA CONSULTA  \\\n",
       "0                              NO                            NO       NO   \n",
       "1                              SI                            SI       NO   \n",
       "2                              NO                            NO       NO   \n",
       "3                              NO                            NO       SI   \n",
       "4                              NO                            NO       NO   \n",
       "\n",
       "  TARGET_ENFERMEDAD_RESPIRATORIA VIV_HUMEDAD VIV_GOTERAS VIV_FALLO_TUBERIAS  \\\n",
       "0                             NO          NO          NO                 NO   \n",
       "1                             NO          NO          NO                 NO   \n",
       "2                             NO          NO          NO                 NO   \n",
       "3                             NO          SI          SI                 NO   \n",
       "4                             NO          SI          SI                 NO   \n",
       "\n",
       "   ... VIV_ALCANTARILLADO VIV_RECOLECCION_BASURA VIV_MATERIAL_PARED  \\\n",
       "0  ...                 SI                     SI            rustico   \n",
       "1  ...                 SI                     SI            rustico   \n",
       "2  ...                 SI                     SI            rustico   \n",
       "3  ...                 SI                     SI            rustico   \n",
       "4  ...                 SI                     SI            rustico   \n",
       "\n",
       "    VIV_MATERIAL_PISO VIV_CERCANIA_FABRICAS VIV_CERCANIA_BOTADEROS  \\\n",
       "0             baldosa                    NO                     NO   \n",
       "1             baldosa                    NO                     NO   \n",
       "2             baldosa                    NO                     NO   \n",
       "3  madera_pulida_laca                    NO                     NO   \n",
       "4  madera_pulida_laca                    NO                     NO   \n",
       "\n",
       "  VIV_CERCANIA_CANO_AGUAS SECTOR_CONTAMINACION_AIRE SECTOR_MAL_OLOR  \\\n",
       "0                      NO                        NO              SI   \n",
       "1                      NO                        NO              SI   \n",
       "2                      NO                        NO              SI   \n",
       "3                      NO                        NO              NO   \n",
       "4                      NO                        NO              NO   \n",
       "\n",
       "  SECTOR_MAL_MANEJO_BASURAS  \n",
       "0                        NO  \n",
       "1                        NO  \n",
       "2                        NO  \n",
       "3                        NO  \n",
       "4                        NO  \n",
       "\n",
       "[5 rows x 25 columns]"
      ]
     },
     "execution_count": 2,
     "metadata": {},
     "output_type": "execute_result"
    }
   ],
   "source": [
    "df = pd.read_csv('data/data.limpia.csv')\n",
    "df.head()"
   ]
  },
  {
   "cell_type": "code",
   "execution_count": 3,
   "metadata": {},
   "outputs": [
    {
     "data": {
      "text/plain": [
       "SEGURIDAD_SOCIAL_REGIMEN           object\n",
       "PARTICIPA_PROMO_PREVE              object\n",
       "CONSULTA_MEDICINA_GENERAL          object\n",
       "CONSULTA_MEDICINA_ESPECIALIZADA    object\n",
       "CONSULTA_MEDICINA_ALTERNATIVA      object\n",
       "CONSULTA                           object\n",
       "TARGET_ENFERMEDAD_RESPIRATORIA     object\n",
       "VIV_HUMEDAD                        object\n",
       "VIV_GOTERAS                        object\n",
       "VIV_FALLO_TUBERIAS                 object\n",
       "VIV_POCA_VENTILACION               object\n",
       "VIV_INUNDACION                     object\n",
       "VIV_TIPO                           object\n",
       "VIV_ESTRATO                         int64\n",
       "VIV_ACUEDUCTO                      object\n",
       "VIV_ALCANTARILLADO                 object\n",
       "VIV_RECOLECCION_BASURA             object\n",
       "VIV_MATERIAL_PARED                 object\n",
       "VIV_MATERIAL_PISO                  object\n",
       "VIV_CERCANIA_FABRICAS              object\n",
       "VIV_CERCANIA_BOTADEROS             object\n",
       "VIV_CERCANIA_CANO_AGUAS            object\n",
       "SECTOR_CONTAMINACION_AIRE          object\n",
       "SECTOR_MAL_OLOR                    object\n",
       "SECTOR_MAL_MANEJO_BASURAS          object\n",
       "dtype: object"
      ]
     },
     "execution_count": 3,
     "metadata": {},
     "output_type": "execute_result"
    }
   ],
   "source": [
    "df.dtypes"
   ]
  },
  {
   "cell_type": "markdown",
   "metadata": {},
   "source": [
    "## Variables independientes y objetivo"
   ]
  },
  {
   "cell_type": "code",
   "execution_count": 4,
   "metadata": {},
   "outputs": [],
   "source": [
    "variables_independientes = df.drop(\"TARGET_ENFERMEDAD_RESPIRATORIA\", axis=1).columns\n",
    "variable_objetivo = [\"TARGET_ENFERMEDAD_RESPIRATORIA\"]"
   ]
  },
  {
   "cell_type": "code",
   "execution_count": 5,
   "metadata": {},
   "outputs": [
    {
     "data": {
      "text/html": [
       "<div>\n",
       "<style scoped>\n",
       "    .dataframe tbody tr th:only-of-type {\n",
       "        vertical-align: middle;\n",
       "    }\n",
       "\n",
       "    .dataframe tbody tr th {\n",
       "        vertical-align: top;\n",
       "    }\n",
       "\n",
       "    .dataframe thead th {\n",
       "        text-align: right;\n",
       "    }\n",
       "</style>\n",
       "<table border=\"1\" class=\"dataframe\">\n",
       "  <thead>\n",
       "    <tr style=\"text-align: right;\">\n",
       "      <th></th>\n",
       "      <th>SEGURIDAD_SOCIAL_REGIMEN</th>\n",
       "      <th>PARTICIPA_PROMO_PREVE</th>\n",
       "      <th>CONSULTA_MEDICINA_GENERAL</th>\n",
       "      <th>CONSULTA_MEDICINA_ESPECIALIZADA</th>\n",
       "      <th>CONSULTA_MEDICINA_ALTERNATIVA</th>\n",
       "      <th>CONSULTA</th>\n",
       "      <th>VIV_HUMEDAD</th>\n",
       "      <th>VIV_GOTERAS</th>\n",
       "      <th>VIV_FALLO_TUBERIAS</th>\n",
       "      <th>VIV_POCA_VENTILACION</th>\n",
       "      <th>...</th>\n",
       "      <th>VIV_ALCANTARILLADO</th>\n",
       "      <th>VIV_RECOLECCION_BASURA</th>\n",
       "      <th>VIV_MATERIAL_PARED</th>\n",
       "      <th>VIV_MATERIAL_PISO</th>\n",
       "      <th>VIV_CERCANIA_FABRICAS</th>\n",
       "      <th>VIV_CERCANIA_BOTADEROS</th>\n",
       "      <th>VIV_CERCANIA_CANO_AGUAS</th>\n",
       "      <th>SECTOR_CONTAMINACION_AIRE</th>\n",
       "      <th>SECTOR_MAL_OLOR</th>\n",
       "      <th>SECTOR_MAL_MANEJO_BASURAS</th>\n",
       "    </tr>\n",
       "  </thead>\n",
       "  <tbody>\n",
       "    <tr>\n",
       "      <td>0</td>\n",
       "      <td>contributivo</td>\n",
       "      <td>NO</td>\n",
       "      <td>SI</td>\n",
       "      <td>NO</td>\n",
       "      <td>NO</td>\n",
       "      <td>NO</td>\n",
       "      <td>NO</td>\n",
       "      <td>NO</td>\n",
       "      <td>NO</td>\n",
       "      <td>NO</td>\n",
       "      <td>...</td>\n",
       "      <td>SI</td>\n",
       "      <td>SI</td>\n",
       "      <td>rustico</td>\n",
       "      <td>baldosa</td>\n",
       "      <td>NO</td>\n",
       "      <td>NO</td>\n",
       "      <td>NO</td>\n",
       "      <td>NO</td>\n",
       "      <td>SI</td>\n",
       "      <td>NO</td>\n",
       "    </tr>\n",
       "    <tr>\n",
       "      <td>1</td>\n",
       "      <td>contributivo</td>\n",
       "      <td>NO</td>\n",
       "      <td>SI</td>\n",
       "      <td>SI</td>\n",
       "      <td>SI</td>\n",
       "      <td>NO</td>\n",
       "      <td>NO</td>\n",
       "      <td>NO</td>\n",
       "      <td>NO</td>\n",
       "      <td>NO</td>\n",
       "      <td>...</td>\n",
       "      <td>SI</td>\n",
       "      <td>SI</td>\n",
       "      <td>rustico</td>\n",
       "      <td>baldosa</td>\n",
       "      <td>NO</td>\n",
       "      <td>NO</td>\n",
       "      <td>NO</td>\n",
       "      <td>NO</td>\n",
       "      <td>SI</td>\n",
       "      <td>NO</td>\n",
       "    </tr>\n",
       "    <tr>\n",
       "      <td>2</td>\n",
       "      <td>contributivo</td>\n",
       "      <td>NO</td>\n",
       "      <td>SI</td>\n",
       "      <td>NO</td>\n",
       "      <td>NO</td>\n",
       "      <td>NO</td>\n",
       "      <td>NO</td>\n",
       "      <td>NO</td>\n",
       "      <td>NO</td>\n",
       "      <td>NO</td>\n",
       "      <td>...</td>\n",
       "      <td>SI</td>\n",
       "      <td>SI</td>\n",
       "      <td>rustico</td>\n",
       "      <td>baldosa</td>\n",
       "      <td>NO</td>\n",
       "      <td>NO</td>\n",
       "      <td>NO</td>\n",
       "      <td>NO</td>\n",
       "      <td>SI</td>\n",
       "      <td>NO</td>\n",
       "    </tr>\n",
       "    <tr>\n",
       "      <td>3</td>\n",
       "      <td>especial</td>\n",
       "      <td>SI</td>\n",
       "      <td>NO</td>\n",
       "      <td>NO</td>\n",
       "      <td>NO</td>\n",
       "      <td>SI</td>\n",
       "      <td>SI</td>\n",
       "      <td>SI</td>\n",
       "      <td>NO</td>\n",
       "      <td>NO</td>\n",
       "      <td>...</td>\n",
       "      <td>SI</td>\n",
       "      <td>SI</td>\n",
       "      <td>rustico</td>\n",
       "      <td>madera_pulida_laca</td>\n",
       "      <td>NO</td>\n",
       "      <td>NO</td>\n",
       "      <td>NO</td>\n",
       "      <td>NO</td>\n",
       "      <td>NO</td>\n",
       "      <td>NO</td>\n",
       "    </tr>\n",
       "    <tr>\n",
       "      <td>4</td>\n",
       "      <td>especial</td>\n",
       "      <td>NO</td>\n",
       "      <td>SI</td>\n",
       "      <td>NO</td>\n",
       "      <td>NO</td>\n",
       "      <td>NO</td>\n",
       "      <td>SI</td>\n",
       "      <td>SI</td>\n",
       "      <td>NO</td>\n",
       "      <td>NO</td>\n",
       "      <td>...</td>\n",
       "      <td>SI</td>\n",
       "      <td>SI</td>\n",
       "      <td>rustico</td>\n",
       "      <td>madera_pulida_laca</td>\n",
       "      <td>NO</td>\n",
       "      <td>NO</td>\n",
       "      <td>NO</td>\n",
       "      <td>NO</td>\n",
       "      <td>NO</td>\n",
       "      <td>NO</td>\n",
       "    </tr>\n",
       "    <tr>\n",
       "      <td>...</td>\n",
       "      <td>...</td>\n",
       "      <td>...</td>\n",
       "      <td>...</td>\n",
       "      <td>...</td>\n",
       "      <td>...</td>\n",
       "      <td>...</td>\n",
       "      <td>...</td>\n",
       "      <td>...</td>\n",
       "      <td>...</td>\n",
       "      <td>...</td>\n",
       "      <td>...</td>\n",
       "      <td>...</td>\n",
       "      <td>...</td>\n",
       "      <td>...</td>\n",
       "      <td>...</td>\n",
       "      <td>...</td>\n",
       "      <td>...</td>\n",
       "      <td>...</td>\n",
       "      <td>...</td>\n",
       "      <td>...</td>\n",
       "      <td>...</td>\n",
       "    </tr>\n",
       "    <tr>\n",
       "      <td>291802</td>\n",
       "      <td>contributivo</td>\n",
       "      <td>NO</td>\n",
       "      <td>SI</td>\n",
       "      <td>NO</td>\n",
       "      <td>NO</td>\n",
       "      <td>NO</td>\n",
       "      <td>NO</td>\n",
       "      <td>NO</td>\n",
       "      <td>NO</td>\n",
       "      <td>NO</td>\n",
       "      <td>...</td>\n",
       "      <td>NO</td>\n",
       "      <td>SI</td>\n",
       "      <td>rustico</td>\n",
       "      <td>baldosa</td>\n",
       "      <td>NO</td>\n",
       "      <td>NO</td>\n",
       "      <td>NO</td>\n",
       "      <td>NO</td>\n",
       "      <td>SI</td>\n",
       "      <td>NO</td>\n",
       "    </tr>\n",
       "    <tr>\n",
       "      <td>291803</td>\n",
       "      <td>subsidiado</td>\n",
       "      <td>NO</td>\n",
       "      <td>NO</td>\n",
       "      <td>NO</td>\n",
       "      <td>NO</td>\n",
       "      <td>SI</td>\n",
       "      <td>NO</td>\n",
       "      <td>NO</td>\n",
       "      <td>NO</td>\n",
       "      <td>NO</td>\n",
       "      <td>...</td>\n",
       "      <td>NO</td>\n",
       "      <td>NO</td>\n",
       "      <td>rustico</td>\n",
       "      <td>baldosa</td>\n",
       "      <td>NO</td>\n",
       "      <td>NO</td>\n",
       "      <td>NO</td>\n",
       "      <td>NO</td>\n",
       "      <td>NO</td>\n",
       "      <td>NO</td>\n",
       "    </tr>\n",
       "    <tr>\n",
       "      <td>291804</td>\n",
       "      <td>subsidiado</td>\n",
       "      <td>NO</td>\n",
       "      <td>NO</td>\n",
       "      <td>NO</td>\n",
       "      <td>NO</td>\n",
       "      <td>SI</td>\n",
       "      <td>NO</td>\n",
       "      <td>NO</td>\n",
       "      <td>NO</td>\n",
       "      <td>NO</td>\n",
       "      <td>...</td>\n",
       "      <td>NO</td>\n",
       "      <td>NO</td>\n",
       "      <td>rustico</td>\n",
       "      <td>baldosa</td>\n",
       "      <td>NO</td>\n",
       "      <td>NO</td>\n",
       "      <td>NO</td>\n",
       "      <td>NO</td>\n",
       "      <td>NO</td>\n",
       "      <td>NO</td>\n",
       "    </tr>\n",
       "    <tr>\n",
       "      <td>291805</td>\n",
       "      <td>subsidiado</td>\n",
       "      <td>NO</td>\n",
       "      <td>NO</td>\n",
       "      <td>NO</td>\n",
       "      <td>NO</td>\n",
       "      <td>SI</td>\n",
       "      <td>NO</td>\n",
       "      <td>NO</td>\n",
       "      <td>NO</td>\n",
       "      <td>NO</td>\n",
       "      <td>...</td>\n",
       "      <td>NO</td>\n",
       "      <td>NO</td>\n",
       "      <td>rustico</td>\n",
       "      <td>baldosa</td>\n",
       "      <td>NO</td>\n",
       "      <td>NO</td>\n",
       "      <td>NO</td>\n",
       "      <td>NO</td>\n",
       "      <td>NO</td>\n",
       "      <td>NO</td>\n",
       "    </tr>\n",
       "    <tr>\n",
       "      <td>291806</td>\n",
       "      <td>subsidiado</td>\n",
       "      <td>NO</td>\n",
       "      <td>NO</td>\n",
       "      <td>NO</td>\n",
       "      <td>NO</td>\n",
       "      <td>SI</td>\n",
       "      <td>NO</td>\n",
       "      <td>NO</td>\n",
       "      <td>NO</td>\n",
       "      <td>NO</td>\n",
       "      <td>...</td>\n",
       "      <td>NO</td>\n",
       "      <td>NO</td>\n",
       "      <td>rustico</td>\n",
       "      <td>baldosa</td>\n",
       "      <td>NO</td>\n",
       "      <td>NO</td>\n",
       "      <td>NO</td>\n",
       "      <td>NO</td>\n",
       "      <td>NO</td>\n",
       "      <td>NO</td>\n",
       "    </tr>\n",
       "  </tbody>\n",
       "</table>\n",
       "<p>291807 rows × 23 columns</p>\n",
       "</div>"
      ],
      "text/plain": [
       "       SEGURIDAD_SOCIAL_REGIMEN PARTICIPA_PROMO_PREVE  \\\n",
       "0                  contributivo                    NO   \n",
       "1                  contributivo                    NO   \n",
       "2                  contributivo                    NO   \n",
       "3                      especial                    SI   \n",
       "4                      especial                    NO   \n",
       "...                         ...                   ...   \n",
       "291802             contributivo                    NO   \n",
       "291803               subsidiado                    NO   \n",
       "291804               subsidiado                    NO   \n",
       "291805               subsidiado                    NO   \n",
       "291806               subsidiado                    NO   \n",
       "\n",
       "       CONSULTA_MEDICINA_GENERAL CONSULTA_MEDICINA_ESPECIALIZADA  \\\n",
       "0                             SI                              NO   \n",
       "1                             SI                              SI   \n",
       "2                             SI                              NO   \n",
       "3                             NO                              NO   \n",
       "4                             SI                              NO   \n",
       "...                          ...                             ...   \n",
       "291802                        SI                              NO   \n",
       "291803                        NO                              NO   \n",
       "291804                        NO                              NO   \n",
       "291805                        NO                              NO   \n",
       "291806                        NO                              NO   \n",
       "\n",
       "       CONSULTA_MEDICINA_ALTERNATIVA CONSULTA VIV_HUMEDAD VIV_GOTERAS  \\\n",
       "0                                 NO       NO          NO          NO   \n",
       "1                                 SI       NO          NO          NO   \n",
       "2                                 NO       NO          NO          NO   \n",
       "3                                 NO       SI          SI          SI   \n",
       "4                                 NO       NO          SI          SI   \n",
       "...                              ...      ...         ...         ...   \n",
       "291802                            NO       NO          NO          NO   \n",
       "291803                            NO       SI          NO          NO   \n",
       "291804                            NO       SI          NO          NO   \n",
       "291805                            NO       SI          NO          NO   \n",
       "291806                            NO       SI          NO          NO   \n",
       "\n",
       "       VIV_FALLO_TUBERIAS VIV_POCA_VENTILACION  ... VIV_ALCANTARILLADO  \\\n",
       "0                      NO                   NO  ...                 SI   \n",
       "1                      NO                   NO  ...                 SI   \n",
       "2                      NO                   NO  ...                 SI   \n",
       "3                      NO                   NO  ...                 SI   \n",
       "4                      NO                   NO  ...                 SI   \n",
       "...                   ...                  ...  ...                ...   \n",
       "291802                 NO                   NO  ...                 NO   \n",
       "291803                 NO                   NO  ...                 NO   \n",
       "291804                 NO                   NO  ...                 NO   \n",
       "291805                 NO                   NO  ...                 NO   \n",
       "291806                 NO                   NO  ...                 NO   \n",
       "\n",
       "       VIV_RECOLECCION_BASURA VIV_MATERIAL_PARED   VIV_MATERIAL_PISO  \\\n",
       "0                          SI            rustico             baldosa   \n",
       "1                          SI            rustico             baldosa   \n",
       "2                          SI            rustico             baldosa   \n",
       "3                          SI            rustico  madera_pulida_laca   \n",
       "4                          SI            rustico  madera_pulida_laca   \n",
       "...                       ...                ...                 ...   \n",
       "291802                     SI            rustico             baldosa   \n",
       "291803                     NO            rustico             baldosa   \n",
       "291804                     NO            rustico             baldosa   \n",
       "291805                     NO            rustico             baldosa   \n",
       "291806                     NO            rustico             baldosa   \n",
       "\n",
       "       VIV_CERCANIA_FABRICAS VIV_CERCANIA_BOTADEROS VIV_CERCANIA_CANO_AGUAS  \\\n",
       "0                         NO                     NO                      NO   \n",
       "1                         NO                     NO                      NO   \n",
       "2                         NO                     NO                      NO   \n",
       "3                         NO                     NO                      NO   \n",
       "4                         NO                     NO                      NO   \n",
       "...                      ...                    ...                     ...   \n",
       "291802                    NO                     NO                      NO   \n",
       "291803                    NO                     NO                      NO   \n",
       "291804                    NO                     NO                      NO   \n",
       "291805                    NO                     NO                      NO   \n",
       "291806                    NO                     NO                      NO   \n",
       "\n",
       "       SECTOR_CONTAMINACION_AIRE SECTOR_MAL_OLOR SECTOR_MAL_MANEJO_BASURAS  \n",
       "0                             NO              SI                        NO  \n",
       "1                             NO              SI                        NO  \n",
       "2                             NO              SI                        NO  \n",
       "3                             NO              NO                        NO  \n",
       "4                             NO              NO                        NO  \n",
       "...                          ...             ...                       ...  \n",
       "291802                        NO              SI                        NO  \n",
       "291803                        NO              NO                        NO  \n",
       "291804                        NO              NO                        NO  \n",
       "291805                        NO              NO                        NO  \n",
       "291806                        NO              NO                        NO  \n",
       "\n",
       "[291807 rows x 23 columns]"
      ]
     },
     "execution_count": 5,
     "metadata": {},
     "output_type": "execute_result"
    }
   ],
   "source": [
    "variables_categoricas = df[variables_independientes].select_dtypes(object)\n",
    "variables_categoricas"
   ]
  },
  {
   "cell_type": "code",
   "execution_count": 6,
   "metadata": {},
   "outputs": [
    {
     "data": {
      "text/html": [
       "<div>\n",
       "<style scoped>\n",
       "    .dataframe tbody tr th:only-of-type {\n",
       "        vertical-align: middle;\n",
       "    }\n",
       "\n",
       "    .dataframe tbody tr th {\n",
       "        vertical-align: top;\n",
       "    }\n",
       "\n",
       "    .dataframe thead th {\n",
       "        text-align: right;\n",
       "    }\n",
       "</style>\n",
       "<table border=\"1\" class=\"dataframe\">\n",
       "  <thead>\n",
       "    <tr style=\"text-align: right;\">\n",
       "      <th></th>\n",
       "      <th>VIV_ESTRATO</th>\n",
       "    </tr>\n",
       "  </thead>\n",
       "  <tbody>\n",
       "    <tr>\n",
       "      <td>0</td>\n",
       "      <td>2</td>\n",
       "    </tr>\n",
       "    <tr>\n",
       "      <td>1</td>\n",
       "      <td>2</td>\n",
       "    </tr>\n",
       "    <tr>\n",
       "      <td>2</td>\n",
       "      <td>2</td>\n",
       "    </tr>\n",
       "    <tr>\n",
       "      <td>3</td>\n",
       "      <td>3</td>\n",
       "    </tr>\n",
       "    <tr>\n",
       "      <td>4</td>\n",
       "      <td>3</td>\n",
       "    </tr>\n",
       "    <tr>\n",
       "      <td>...</td>\n",
       "      <td>...</td>\n",
       "    </tr>\n",
       "    <tr>\n",
       "      <td>291802</td>\n",
       "      <td>2</td>\n",
       "    </tr>\n",
       "    <tr>\n",
       "      <td>291803</td>\n",
       "      <td>1</td>\n",
       "    </tr>\n",
       "    <tr>\n",
       "      <td>291804</td>\n",
       "      <td>1</td>\n",
       "    </tr>\n",
       "    <tr>\n",
       "      <td>291805</td>\n",
       "      <td>1</td>\n",
       "    </tr>\n",
       "    <tr>\n",
       "      <td>291806</td>\n",
       "      <td>1</td>\n",
       "    </tr>\n",
       "  </tbody>\n",
       "</table>\n",
       "<p>291807 rows × 1 columns</p>\n",
       "</div>"
      ],
      "text/plain": [
       "        VIV_ESTRATO\n",
       "0                 2\n",
       "1                 2\n",
       "2                 2\n",
       "3                 3\n",
       "4                 3\n",
       "...             ...\n",
       "291802            2\n",
       "291803            1\n",
       "291804            1\n",
       "291805            1\n",
       "291806            1\n",
       "\n",
       "[291807 rows x 1 columns]"
      ]
     },
     "execution_count": 6,
     "metadata": {},
     "output_type": "execute_result"
    }
   ],
   "source": [
    "variables_numericas = df[variables_independientes].select_dtypes(np.number)\n",
    "variables_numericas"
   ]
  },
  {
   "cell_type": "markdown",
   "metadata": {},
   "source": [
    "## Procesamiento variables categoricas"
   ]
  },
  {
   "cell_type": "code",
   "execution_count": 7,
   "metadata": {},
   "outputs": [
    {
     "data": {
      "text/plain": [
       "(291807, 61)"
      ]
     },
     "execution_count": 7,
     "metadata": {},
     "output_type": "execute_result"
    }
   ],
   "source": [
    "datos_categoricos_dummy = pd.get_dummies(variables_categoricas)\n",
    "datos_categoricos_dummy.shape"
   ]
  },
  {
   "cell_type": "markdown",
   "metadata": {},
   "source": [
    "## Procesamiento de variables numéricas\n",
    "\n",
    "Después de aplicar One Hot Encoding a las variables categóricas (con el método get_dummies de Pandas), todas las variables del dataset son numéricas. La mayoría de los modelos funcionan mejor si se aplica una normalización a sus valores, de tal forma que la media sea 1, y la varianza sea unitaria"
   ]
  },
  {
   "cell_type": "code",
   "execution_count": 8,
   "metadata": {},
   "outputs": [
    {
     "data": {
      "text/plain": [
       "SEGURIDAD_SOCIAL_REGIMEN_contributivo    uint8\n",
       "SEGURIDAD_SOCIAL_REGIMEN_especial        uint8\n",
       "SEGURIDAD_SOCIAL_REGIMEN_subsidiado      uint8\n",
       "PARTICIPA_PROMO_PREVE_NO                 uint8\n",
       "PARTICIPA_PROMO_PREVE_SI                 uint8\n",
       "                                         ...  \n",
       "SECTOR_CONTAMINACION_AIRE_SI             uint8\n",
       "SECTOR_MAL_OLOR_NO                       uint8\n",
       "SECTOR_MAL_OLOR_SI                       uint8\n",
       "SECTOR_MAL_MANEJO_BASURAS_NO             uint8\n",
       "SECTOR_MAL_MANEJO_BASURAS_SI             uint8\n",
       "Length: 61, dtype: object"
      ]
     },
     "execution_count": 8,
     "metadata": {},
     "output_type": "execute_result"
    }
   ],
   "source": [
    "datos_categoricos_dummy.dtypes"
   ]
  },
  {
   "cell_type": "code",
   "execution_count": 9,
   "metadata": {},
   "outputs": [
    {
     "data": {
      "text/plain": [
       "(291807, 61)"
      ]
     },
     "execution_count": 9,
     "metadata": {},
     "output_type": "execute_result"
    }
   ],
   "source": [
    "datos_categoricos_dummy.shape"
   ]
  },
  {
   "cell_type": "code",
   "execution_count": 10,
   "metadata": {},
   "outputs": [
    {
     "data": {
      "text/plain": [
       "(291807, 62)"
      ]
     },
     "execution_count": 10,
     "metadata": {},
     "output_type": "execute_result"
    }
   ],
   "source": [
    "df_procesado = pd.concat([\n",
    "    variables_numericas,\n",
    "    datos_categoricos_dummy\n",
    "], axis=1)\n",
    "\n",
    "variables_independientes = df_procesado.columns\n",
    "df_procesado.shape"
   ]
  },
  {
   "cell_type": "code",
   "execution_count": 11,
   "metadata": {},
   "outputs": [
    {
     "data": {
      "text/plain": [
       "VIV_ESTRATO                              2.517914\n",
       "SEGURIDAD_SOCIAL_REGIMEN_contributivo    0.725044\n",
       "SEGURIDAD_SOCIAL_REGIMEN_especial        0.026596\n",
       "SEGURIDAD_SOCIAL_REGIMEN_subsidiado      0.248359\n",
       "PARTICIPA_PROMO_PREVE_NO                 0.899379\n",
       "                                           ...   \n",
       "SECTOR_CONTAMINACION_AIRE_SI             0.296244\n",
       "SECTOR_MAL_OLOR_NO                       0.695257\n",
       "SECTOR_MAL_OLOR_SI                       0.304743\n",
       "SECTOR_MAL_MANEJO_BASURAS_NO             0.833397\n",
       "SECTOR_MAL_MANEJO_BASURAS_SI             0.166603\n",
       "Length: 62, dtype: float64"
      ]
     },
     "execution_count": 11,
     "metadata": {},
     "output_type": "execute_result"
    }
   ],
   "source": [
    "df_procesado.mean()"
   ]
  },
  {
   "cell_type": "code",
   "execution_count": 12,
   "metadata": {},
   "outputs": [
    {
     "data": {
      "text/plain": [
       "VIV_ESTRATO                              0.889406\n",
       "SEGURIDAD_SOCIAL_REGIMEN_contributivo    0.199356\n",
       "SEGURIDAD_SOCIAL_REGIMEN_especial        0.025889\n",
       "SEGURIDAD_SOCIAL_REGIMEN_subsidiado      0.186678\n",
       "PARTICIPA_PROMO_PREVE_NO                 0.090497\n",
       "                                           ...   \n",
       "SECTOR_CONTAMINACION_AIRE_SI             0.208484\n",
       "SECTOR_MAL_OLOR_NO                       0.211875\n",
       "SECTOR_MAL_OLOR_SI                       0.211875\n",
       "SECTOR_MAL_MANEJO_BASURAS_NO             0.138847\n",
       "SECTOR_MAL_MANEJO_BASURAS_SI             0.138847\n",
       "Length: 62, dtype: float64"
      ]
     },
     "execution_count": 12,
     "metadata": {},
     "output_type": "execute_result"
    }
   ],
   "source": [
    "df_procesado.var()"
   ]
  },
  {
   "cell_type": "code",
   "execution_count": 13,
   "metadata": {},
   "outputs": [
    {
     "data": {
      "text/plain": [
       "VIV_ESTRATO                             -2.401751e-14\n",
       "SEGURIDAD_SOCIAL_REGIMEN_contributivo   -4.934118e-15\n",
       "SEGURIDAD_SOCIAL_REGIMEN_especial       -4.950465e-15\n",
       "SEGURIDAD_SOCIAL_REGIMEN_subsidiado      3.231108e-14\n",
       "PARTICIPA_PROMO_PREVE_NO                 7.592765e-14\n",
       "                                             ...     \n",
       "SECTOR_CONTAMINACION_AIRE_SI             1.639051e-13\n",
       "SECTOR_MAL_OLOR_NO                       8.754261e-14\n",
       "SECTOR_MAL_OLOR_SI                      -8.754259e-14\n",
       "SECTOR_MAL_MANEJO_BASURAS_NO             8.391551e-14\n",
       "SECTOR_MAL_MANEJO_BASURAS_SI            -8.391551e-14\n",
       "Length: 62, dtype: float64"
      ]
     },
     "execution_count": 13,
     "metadata": {},
     "output_type": "execute_result"
    }
   ],
   "source": [
    "from sklearn import preprocessing\n",
    "\n",
    "df_procesado_scaled = pd.DataFrame(preprocessing.scale(df_procesado), columns=variables_independientes)\n",
    "df_procesado_scaled.mean()"
   ]
  },
  {
   "cell_type": "code",
   "execution_count": 14,
   "metadata": {},
   "outputs": [
    {
     "data": {
      "text/plain": [
       "VIV_ESTRATO                              1.000003\n",
       "SEGURIDAD_SOCIAL_REGIMEN_contributivo    1.000003\n",
       "SEGURIDAD_SOCIAL_REGIMEN_especial        1.000003\n",
       "SEGURIDAD_SOCIAL_REGIMEN_subsidiado      1.000003\n",
       "PARTICIPA_PROMO_PREVE_NO                 1.000003\n",
       "                                           ...   \n",
       "SECTOR_CONTAMINACION_AIRE_SI             1.000003\n",
       "SECTOR_MAL_OLOR_NO                       1.000003\n",
       "SECTOR_MAL_OLOR_SI                       1.000003\n",
       "SECTOR_MAL_MANEJO_BASURAS_NO             1.000003\n",
       "SECTOR_MAL_MANEJO_BASURAS_SI             1.000003\n",
       "Length: 62, dtype: float64"
      ]
     },
     "execution_count": 14,
     "metadata": {},
     "output_type": "execute_result"
    }
   ],
   "source": [
    "df_procesado_scaled.var()"
   ]
  },
  {
   "cell_type": "markdown",
   "metadata": {},
   "source": [
    "## Variable objetivo"
   ]
  },
  {
   "cell_type": "code",
   "execution_count": 15,
   "metadata": {},
   "outputs": [
    {
     "data": {
      "text/plain": [
       "0    282135\n",
       "1      9672\n",
       "Name: TARGET_ENFERMEDAD_RESPIRATORIA, dtype: int64"
      ]
     },
     "execution_count": 15,
     "metadata": {},
     "output_type": "execute_result"
    }
   ],
   "source": [
    "y = df[variable_objetivo].replace({'NO' : 0, 'SI' : 1})\n",
    "y['TARGET_ENFERMEDAD_RESPIRATORIA'].value_counts()"
   ]
  },
  {
   "cell_type": "markdown",
   "metadata": {},
   "source": [
    "## Entrenamiento"
   ]
  },
  {
   "cell_type": "code",
   "execution_count": 16,
   "metadata": {},
   "outputs": [],
   "source": [
    "from sklearn.model_selection import train_test_split\n",
    "\n",
    "X_train, X_test, y_train, y_test = train_test_split(\n",
    "    df_procesado_scaled,\n",
    "    y['TARGET_ENFERMEDAD_RESPIRATORIA'], test_size=0.20)"
   ]
  },
  {
   "cell_type": "markdown",
   "metadata": {},
   "source": [
    "## Estimadores iniciales"
   ]
  },
  {
   "cell_type": "code",
   "execution_count": 17,
   "metadata": {},
   "outputs": [],
   "source": [
    "from sklearn.linear_model import LogisticRegression\n",
    "#from sklearn.neighbors import KNeighborsClassifier\n",
    "from sklearn.tree import DecisionTreeClassifier\n",
    "\n",
    "estimador_log = LogisticRegression(solver='liblinear')\n",
    "#estimador_knn = KNeighborsClassifier(n_neighbors=5, weights=\"distance\")\n",
    "estimador_tree = DecisionTreeClassifier()"
   ]
  },
  {
   "cell_type": "code",
   "execution_count": 99,
   "metadata": {},
   "outputs": [],
   "source": [
    "LogisticRegression?"
   ]
  },
  {
   "cell_type": "code",
   "execution_count": 19,
   "metadata": {},
   "outputs": [],
   "source": [
    "#KNeighborsClassifier?"
   ]
  },
  {
   "cell_type": "code",
   "execution_count": 20,
   "metadata": {},
   "outputs": [],
   "source": [
    "DecisionTreeClassifier?"
   ]
  },
  {
   "cell_type": "code",
   "execution_count": 21,
   "metadata": {},
   "outputs": [
    {
     "name": "stdout",
     "output_type": "stream",
     "text": [
      "7.28 s ± 0 ns per loop (mean ± std. dev. of 1 run, 1 loop each)\n"
     ]
    }
   ],
   "source": [
    "%%timeit -n 1 -r 1  #n 1 dice que ejecute esta celda solo una vez, -r 1 que ejecute un solo loop\n",
    "estimador_log.fit(X=X_train, y=y_train)"
   ]
  },
  {
   "cell_type": "code",
   "execution_count": 22,
   "metadata": {},
   "outputs": [],
   "source": [
    "#%%timeit -n 1 -r 1  #n 1 dice que ejecute esta celda solo una vez, -r 1 que ejecute un solo loop\n",
    "#estimador_knn.fit(X=X_train, y=y_train)"
   ]
  },
  {
   "cell_type": "code",
   "execution_count": 23,
   "metadata": {},
   "outputs": [
    {
     "name": "stdout",
     "output_type": "stream",
     "text": [
      "2.87 s ± 0 ns per loop (mean ± std. dev. of 1 run, 1 loop each)\n"
     ]
    }
   ],
   "source": [
    "%%timeit -n 1 -r 1  #n 1 dice que ejecute esta celda solo una vez, -r 1 que ejecute un solo loop\n",
    "estimador_tree.fit(X=X_train, y=y_train)"
   ]
  },
  {
   "cell_type": "markdown",
   "metadata": {},
   "source": [
    "Se observa que el entrenamiento de knn es bastante lento"
   ]
  },
  {
   "cell_type": "markdown",
   "metadata": {},
   "source": [
    "### Predicciones"
   ]
  },
  {
   "cell_type": "code",
   "execution_count": 24,
   "metadata": {},
   "outputs": [],
   "source": [
    "prediccion_log = estimador_log.predict(X_test)"
   ]
  },
  {
   "cell_type": "code",
   "execution_count": 25,
   "metadata": {},
   "outputs": [],
   "source": [
    "#prediccion_knn = estimador_knn.predict(X_test)"
   ]
  },
  {
   "cell_type": "code",
   "execution_count": 26,
   "metadata": {},
   "outputs": [],
   "source": [
    "prediccion_tree = estimador_tree.predict(X_test)"
   ]
  },
  {
   "cell_type": "code",
   "execution_count": 27,
   "metadata": {},
   "outputs": [
    {
     "data": {
      "text/plain": [
       "(array([0], dtype=int64), array([58362], dtype=int64))"
      ]
     },
     "execution_count": 27,
     "metadata": {},
     "output_type": "execute_result"
    }
   ],
   "source": [
    "np.unique(prediccion_log, return_counts=True)"
   ]
  },
  {
   "cell_type": "code",
   "execution_count": 28,
   "metadata": {},
   "outputs": [],
   "source": [
    "#np.unique(prediccion_knn, return_counts=True)"
   ]
  },
  {
   "cell_type": "code",
   "execution_count": 29,
   "metadata": {},
   "outputs": [
    {
     "data": {
      "text/plain": [
       "(array([0, 1], dtype=int64), array([57946,   416], dtype=int64))"
      ]
     },
     "execution_count": 29,
     "metadata": {},
     "output_type": "execute_result"
    }
   ],
   "source": [
    "np.unique(prediccion_tree, return_counts=True)"
   ]
  },
  {
   "cell_type": "markdown",
   "metadata": {},
   "source": [
    "Se observa que únicamente el árbol de inducción predice instancias positivas."
   ]
  },
  {
   "cell_type": "markdown",
   "metadata": {},
   "source": [
    "## Evaluación de clasificacion\n",
    "\n",
    "Definimos unas funciones auxiliares para calcular los Falsos Positivos, Verdaderos Positivos, Falsos Negativos y Verdaderos Negativos, además de un diccionario para almacenar todos los resultados"
   ]
  },
  {
   "cell_type": "code",
   "execution_count": 75,
   "metadata": {},
   "outputs": [],
   "source": [
    "from sklearn import metrics"
   ]
  },
  {
   "cell_type": "code",
   "execution_count": 77,
   "metadata": {},
   "outputs": [
    {
     "data": {
      "text/plain": [
       "149893    0\n",
       "29239     0\n",
       "281465    0\n",
       "12032     0\n",
       "130099    0\n",
       "         ..\n",
       "286901    0\n",
       "288080    0\n",
       "14648     0\n",
       "93504     0\n",
       "252649    0\n",
       "Name: TARGET_ENFERMEDAD_RESPIRATORIA, Length: 58362, dtype: int64"
      ]
     },
     "execution_count": 77,
     "metadata": {},
     "output_type": "execute_result"
    }
   ],
   "source": [
    "y_test"
   ]
  },
  {
   "cell_type": "code",
   "execution_count": 78,
   "metadata": {},
   "outputs": [
    {
     "data": {
      "text/plain": [
       "array([0, 0, 0, ..., 0, 0, 0], dtype=int64)"
      ]
     },
     "execution_count": 78,
     "metadata": {},
     "output_type": "execute_result"
    }
   ],
   "source": [
    "prediccion_log"
   ]
  },
  {
   "cell_type": "code",
   "execution_count": 80,
   "metadata": {},
   "outputs": [
    {
     "data": {
      "text/plain": [
       "56453"
      ]
     },
     "execution_count": 80,
     "metadata": {},
     "output_type": "execute_result"
    }
   ],
   "source": [
    "VN(y_test, prediccion_log)"
   ]
  },
  {
   "cell_type": "markdown",
   "metadata": {},
   "source": [
    "### Matriz de confusión"
   ]
  },
  {
   "cell_type": "code",
   "execution_count": 84,
   "metadata": {},
   "outputs": [
    {
     "name": "stdout",
     "output_type": "stream",
     "text": [
      "[[    0  1909]\n",
      " [    0 56453]]\n",
      "[[   50  1859]\n",
      " [  366 56087]]\n"
     ]
    }
   ],
   "source": [
    "from sklearn.metrics import confusion_matrix\n",
    "\n",
    "confusion_log = confusion_matrix(y_test, prediccion_log, labels=[1, 0])\n",
    "#confusion_knn = confusion_matrix(y_test, prediccion_knn)\n",
    "confusion_tree = confusion_matrix(y_test, prediccion_tree, labels=[1, 0])\n",
    "\n",
    "print(confusion_log)\n",
    "#print(confusion_knn)\n",
    "print(confusion_tree)"
   ]
  },
  {
   "cell_type": "code",
   "execution_count": 74,
   "metadata": {},
   "outputs": [],
   "source": [
    "confusion_matrix?"
   ]
  },
  {
   "cell_type": "markdown",
   "metadata": {},
   "source": [
    "### Exactitud (Accuracy)"
   ]
  },
  {
   "cell_type": "code",
   "execution_count": 32,
   "metadata": {},
   "outputs": [],
   "source": [
    "metrics.accuracy_score?"
   ]
  },
  {
   "cell_type": "code",
   "execution_count": 33,
   "metadata": {},
   "outputs": [
    {
     "name": "stdout",
     "output_type": "stream",
     "text": [
      "0.9672903601658613\n",
      "0.9618758781398855\n"
     ]
    }
   ],
   "source": [
    "exactitud_log = metrics.accuracy_score(y_test, prediccion_log)\n",
    "#exactitud_knn = metrics.accuracy_score(y_test, prediccion_knn)\n",
    "exactitud_tree = metrics.accuracy_score(y_test, prediccion_tree)\n",
    "\n",
    "print(exactitud_log)\n",
    "#print(exactitud_knn)\n",
    "print(exactitud_tree)"
   ]
  },
  {
   "cell_type": "markdown",
   "metadata": {},
   "source": [
    "### Precision promedio"
   ]
  },
  {
   "cell_type": "code",
   "execution_count": 34,
   "metadata": {},
   "outputs": [
    {
     "name": "stdout",
     "output_type": "stream",
     "text": [
      "0.03270963983413865\n",
      "0.035000961674321186\n"
     ]
    }
   ],
   "source": [
    "precision_log = metrics.average_precision_score(y_test, prediccion_log)\n",
    "#precision_knn = metrics.average_precision_score(y_test, prediccion_knn)\n",
    "precision_tree = metrics.average_precision_score(y_test, prediccion_tree)\n",
    "\n",
    "print(precision_log)\n",
    "#print(precision_knn)\n",
    "print(precision_tree)"
   ]
  },
  {
   "cell_type": "markdown",
   "metadata": {},
   "source": [
    "### Recall"
   ]
  },
  {
   "cell_type": "code",
   "execution_count": 35,
   "metadata": {},
   "outputs": [
    {
     "name": "stdout",
     "output_type": "stream",
     "text": [
      "0.0\n",
      "0.026191723415400735\n"
     ]
    }
   ],
   "source": [
    "recall_log = metrics.recall_score(y_test, prediccion_log)\n",
    "#recall_knn = metrics.recall_score(y_test, prediccion_knn)\n",
    "recall_tree = metrics.recall_score(y_test, prediccion_tree)\n",
    "\n",
    "print(recall_log)\n",
    "#print(recall_knn)\n",
    "print(recall_tree)"
   ]
  },
  {
   "cell_type": "markdown",
   "metadata": {},
   "source": [
    "### FPR\n",
    "\n",
    "metrics no tiene esta metrica. Para calcularla, se definiran variables auxiliares"
   ]
  },
  {
   "cell_type": "code",
   "execution_count": 36,
   "metadata": {},
   "outputs": [],
   "source": [
    "def tupla_clase_prediccion(y_real, y_pred):\n",
    "    return list(zip(y_real, y_pred))\n",
    "\n",
    "def VP(clases_reales, predicciones):\n",
    "    par_clase_prediccion = tupla_clase_prediccion(clases_reales, predicciones)\n",
    "    return len([obs for obs in par_clase_prediccion if obs[0]==1 and obs[1]==1])\n",
    "\n",
    "def VN(clases_reales, predicciones):\n",
    "    par_clase_prediccion = tupla_clase_prediccion(clases_reales, predicciones)\n",
    "    return len([obs for obs in par_clase_prediccion if obs[0]==0 and obs[1]==0])\n",
    "    \n",
    "def FP(clases_reales, predicciones):\n",
    "    par_clase_prediccion = tupla_clase_prediccion(clases_reales, predicciones)\n",
    "    return len([obs for obs in par_clase_prediccion if obs[0]==0 and obs[1]==1])\n",
    "\n",
    "def FN(clases_reales, predicciones):\n",
    "    par_clase_prediccion = tupla_clase_prediccion(clases_reales, predicciones)\n",
    "    return len([obs for obs in par_clase_prediccion if obs[0]==1 and obs[1]==0])\n",
    "\n",
    "def fpr(clases_reales, predicciones):\n",
    "    return (FP(clases_reales, predicciones) / (\n",
    "             FP(clases_reales, predicciones) + VN(clases_reales, predicciones)\n",
    "             )\n",
    "           )"
   ]
  },
  {
   "cell_type": "code",
   "execution_count": 37,
   "metadata": {},
   "outputs": [
    {
     "name": "stdout",
     "output_type": "stream",
     "text": [
      "0.0\n",
      "0.006483269268240837\n"
     ]
    }
   ],
   "source": [
    "fpr_log = fpr(y_test, prediccion_log)\n",
    "#fpr_knn = fpr(y_test, prediccion_knn)\n",
    "fpr_tree = fpr(y_test, prediccion_tree)\n",
    "\n",
    "print(fpr_log)\n",
    "#print(fpr_knn)\n",
    "print(fpr_tree)"
   ]
  },
  {
   "cell_type": "markdown",
   "metadata": {},
   "source": [
    "### F1 Score\n",
    "\n",
    "Debido a que únicamente el árbol de inducción predice para ambas clases. Esta métrica presentará errores para los otros dos estimadores"
   ]
  },
  {
   "cell_type": "code",
   "execution_count": 38,
   "metadata": {},
   "outputs": [
    {
     "name": "stdout",
     "output_type": "stream",
     "text": [
      "0.0\n",
      "0.043010752688172046\n"
     ]
    },
    {
     "name": "stderr",
     "output_type": "stream",
     "text": [
      "C:\\Users\\Andres\\Anaconda3\\lib\\site-packages\\sklearn\\metrics\\classification.py:1437: UndefinedMetricWarning: F-score is ill-defined and being set to 0.0 due to no predicted samples.\n",
      "  'precision', 'predicted', average, warn_for)\n"
     ]
    }
   ],
   "source": [
    "f1_log = metrics.f1_score(y_test, prediccion_log)\n",
    "#f1_knn = metrics.f1_score(y_test, prediccion_knn)\n",
    "f1_tree = metrics.f1_score(y_test, prediccion_tree)\n",
    "\n",
    "print(f1_log)\n",
    "#print(f1_knn)\n",
    "print(f1_tree)"
   ]
  },
  {
   "cell_type": "markdown",
   "metadata": {},
   "source": [
    "## Validación cruzada\n",
    "\n",
    "Para descartar que el error se deba a una infortunada selección en el particionamiento de los datos de entrenamiento y test, se aplicará validación cruzada con 10 splits para cada modelo. Esta vez se utilizará la métrica ROC-AUC para evaluar los estimadores"
   ]
  },
  {
   "cell_type": "code",
   "execution_count": 39,
   "metadata": {},
   "outputs": [],
   "source": [
    "from sklearn.model_selection import cross_val_score"
   ]
  },
  {
   "cell_type": "code",
   "execution_count": 40,
   "metadata": {},
   "outputs": [],
   "source": [
    "roc_auc_cv_log = cross_val_score(\n",
    "    estimador_log,\n",
    "    df_procesado_scaled,\n",
    "    y['TARGET_ENFERMEDAD_RESPIRATORIA'],\n",
    "    scoring=\"roc_auc\",\n",
    "    cv=10\n",
    ").mean()"
   ]
  },
  {
   "cell_type": "code",
   "execution_count": 41,
   "metadata": {},
   "outputs": [],
   "source": [
    "#roc_auc_cv_knn = cross_val_score(\n",
    "#    estimador_knn,\n",
    "#    df_procesado,\n",
    "#    y['TARGET_ENFERMEDAD_RESPIRATORIA'],\n",
    "#    scoring=\"roc_auc\",\n",
    "#    cv=10\n",
    "#).mean()"
   ]
  },
  {
   "cell_type": "code",
   "execution_count": 42,
   "metadata": {},
   "outputs": [],
   "source": [
    "roc_auc_cv_tree = cross_val_score(\n",
    "    estimador_tree,\n",
    "    df_procesado_scaled,\n",
    "    y['TARGET_ENFERMEDAD_RESPIRATORIA'],\n",
    "    scoring=\"roc_auc\",\n",
    "    cv=10\n",
    ").mean()"
   ]
  },
  {
   "cell_type": "code",
   "execution_count": 43,
   "metadata": {},
   "outputs": [
    {
     "data": {
      "text/plain": [
       "0.66858860944916"
      ]
     },
     "execution_count": 43,
     "metadata": {},
     "output_type": "execute_result"
    }
   ],
   "source": [
    "roc_auc_cv_log"
   ]
  },
  {
   "cell_type": "code",
   "execution_count": 44,
   "metadata": {},
   "outputs": [],
   "source": [
    "#roc_auc_cv_knn"
   ]
  },
  {
   "cell_type": "code",
   "execution_count": 45,
   "metadata": {},
   "outputs": [
    {
     "data": {
      "text/plain": [
       "0.4984883293273616"
      ]
     },
     "execution_count": 45,
     "metadata": {},
     "output_type": "execute_result"
    }
   ],
   "source": [
    "roc_auc_cv_tree"
   ]
  },
  {
   "cell_type": "markdown",
   "metadata": {},
   "source": [
    "## Seleccion de variables\n",
    "\n",
    "Debido a que los valores de validación cruzada del área bajo la curva son bastante malos, y que k-nn es demasiado lento (al menos en mi máquina), se optó por hacer una selección de variables con el método envolvente RFE. Scikit-learn tiene una implementación de este algoritmo dentro del paquete feature_selection. Este selector funciona seleccionando todas las variables, entrenando el modelo, y luego utilizando los coef_ o la importancia de las variables (feature_importances_) en función del estimador, y eliminando n variables. También se utilizarán los siguientes estimadores\n",
    "\n",
    "- Bagging con extra tree classifier\n",
    "- Random forest\n",
    "- Gradient boost"
   ]
  },
  {
   "cell_type": "markdown",
   "metadata": {},
   "source": [
    "### Estimadores"
   ]
  },
  {
   "cell_type": "code",
   "execution_count": 46,
   "metadata": {},
   "outputs": [],
   "source": [
    "from sklearn.ensemble import BaggingClassifier\n",
    "from sklearn.tree import ExtraTreeClassifier\n",
    "from sklearn.ensemble import RandomForestClassifier\n",
    "from sklearn.ensemble import GradientBoostingClassifier"
   ]
  },
  {
   "cell_type": "code",
   "execution_count": 47,
   "metadata": {},
   "outputs": [],
   "source": [
    "BaggingClassifier?"
   ]
  },
  {
   "cell_type": "code",
   "execution_count": 48,
   "metadata": {},
   "outputs": [],
   "source": [
    "ExtraTreeClassifier?"
   ]
  },
  {
   "cell_type": "code",
   "execution_count": 49,
   "metadata": {},
   "outputs": [],
   "source": [
    "RandomForestClassifier?"
   ]
  },
  {
   "cell_type": "code",
   "execution_count": 50,
   "metadata": {},
   "outputs": [],
   "source": [
    "GradientBoostingClassifier?"
   ]
  },
  {
   "cell_type": "markdown",
   "metadata": {},
   "source": [
    "Como estimador base para la selección de features se utilizará un Random Forest. Se fijará el número de features para seleccionar a 10."
   ]
  },
  {
   "cell_type": "code",
   "execution_count": 51,
   "metadata": {},
   "outputs": [
    {
     "data": {
      "text/plain": [
       "(291807, 10)"
      ]
     },
     "execution_count": 51,
     "metadata": {},
     "output_type": "execute_result"
    }
   ],
   "source": [
    "from sklearn.feature_selection import RFE\n",
    "\n",
    "estimador_selector = RandomForestClassifier(n_estimators=100)\n",
    "selector_rfe10_rf = RFE(estimador_selector, n_features_to_select=10)\n",
    "\n",
    "ames_X_rfe10_rf = selector_rfe10_rf.fit_transform(df_procesado_scaled, y['TARGET_ENFERMEDAD_RESPIRATORIA'])\n",
    "ames_X_rfe10_rf.shape"
   ]
  },
  {
   "cell_type": "markdown",
   "metadata": {},
   "source": [
    "Podemos ordenar el ranking para saber cuáles son las variables con más importancia"
   ]
  },
  {
   "cell_type": "code",
   "execution_count": 52,
   "metadata": {},
   "outputs": [],
   "source": [
    "evaluacion_rfe10_rf = sorted(\n",
    "    filter(lambda c: c[2], \n",
    "        zip(\n",
    "            df_procesado_scaled.columns,\n",
    "            selector_rfe10_rf.ranking_,\n",
    "            selector_rfe10_rf.get_support()\n",
    "        )\n",
    "    ), key=lambda c: c[1],reverse=True\n",
    ")"
   ]
  },
  {
   "cell_type": "code",
   "execution_count": 55,
   "metadata": {},
   "outputs": [
    {
     "data": {
      "text/plain": [
       "[('VIV_ESTRATO', 1, True),\n",
       " ('SEGURIDAD_SOCIAL_REGIMEN_contributivo', 1, True),\n",
       " ('CONSULTA_MEDICINA_ESPECIALIZADA_SI', 1, True),\n",
       " ('VIV_TIPO_casa', 1, True),\n",
       " ('VIV_CERCANIA_FABRICAS_NO', 1, True),\n",
       " ('VIV_CERCANIA_BOTADEROS_SI', 1, True),\n",
       " ('VIV_CERCANIA_CANO_AGUAS_NO', 1, True),\n",
       " ('SECTOR_CONTAMINACION_AIRE_SI', 1, True),\n",
       " ('SECTOR_MAL_OLOR_NO', 1, True),\n",
       " ('SECTOR_MAL_MANEJO_BASURAS_SI', 1, True)]"
      ]
     },
     "execution_count": 55,
     "metadata": {},
     "output_type": "execute_result"
    }
   ],
   "source": [
    "evaluacion_rfe10_rf"
   ]
  },
  {
   "cell_type": "markdown",
   "metadata": {},
   "source": [
    "Todas esas features tienen ranking igual a 1, por lo que son igual de importantes.\n",
    "\n",
    "Se definen dos funciones auxiliares, para hacer validación cruzada y mostrar los resultados en un DataFrame.\n",
    "\n",
    "`evaluar_modelo` se configuró para que utilice f1_score con 10 validaciones cruzadas. Se pasó el parámetro `n_jobs`igual a -1, para que de esta manera se utilicen todos los procesadores."
   ]
  },
  {
   "cell_type": "code",
   "execution_count": 85,
   "metadata": {},
   "outputs": [],
   "source": [
    "cross_validate?"
   ]
  },
  {
   "cell_type": "markdown",
   "metadata": {},
   "source": [
    "Metricas de scoring posibles"
   ]
  },
  {
   "cell_type": "code",
   "execution_count": 57,
   "metadata": {},
   "outputs": [
    {
     "data": {
      "text/plain": [
       "dict_keys(['explained_variance', 'r2', 'max_error', 'neg_median_absolute_error', 'neg_mean_absolute_error', 'neg_mean_squared_error', 'neg_mean_squared_log_error', 'accuracy', 'roc_auc', 'balanced_accuracy', 'average_precision', 'neg_log_loss', 'brier_score_loss', 'adjusted_rand_score', 'homogeneity_score', 'completeness_score', 'v_measure_score', 'mutual_info_score', 'adjusted_mutual_info_score', 'normalized_mutual_info_score', 'fowlkes_mallows_score', 'precision', 'precision_macro', 'precision_micro', 'precision_samples', 'precision_weighted', 'recall', 'recall_macro', 'recall_micro', 'recall_samples', 'recall_weighted', 'f1', 'f1_macro', 'f1_micro', 'f1_samples', 'f1_weighted', 'jaccard', 'jaccard_macro', 'jaccard_micro', 'jaccard_samples', 'jaccard_weighted'])"
      ]
     },
     "execution_count": 57,
     "metadata": {},
     "output_type": "execute_result"
    }
   ],
   "source": [
    "metrics.SCORERS.keys()"
   ]
  },
  {
   "cell_type": "code",
   "execution_count": 125,
   "metadata": {},
   "outputs": [],
   "source": [
    "from sklearn.model_selection import cross_validate\n",
    "\n",
    "resultados = {}\n",
    "\n",
    "def evaluar_modelo(estimador, X, y):\n",
    "    resultados_estimador = cross_validate(\n",
    "        estimador,\n",
    "        X,\n",
    "        y,\n",
    "        scoring=[\"roc_auc\", \"accuracy\", \"precision\", \"recall\", \"f1\"],\n",
    "        n_jobs=-1,\n",
    "        cv=10,\n",
    "        return_train_score=True\n",
    "    )\n",
    "    return resultados_estimador\n",
    "\n",
    "def ver_resultados():\n",
    "    resultados_df  = pd.DataFrame(resultados).T\n",
    "    resultados_cols = resultados_df.columns\n",
    "    for col in resultados_df:\n",
    "        resultados_df[col] = resultados_df[col].apply(np.mean)\n",
    "    return resultados_df"
   ]
  },
  {
   "cell_type": "markdown",
   "metadata": {},
   "source": [
    "#### Bagging con extra tree classifier\n",
    "\n",
    "Por defecto, ExtraTreeClassifier utiliza los siguientes parámetros:\n",
    "\n",
    "- Criterio: gini\n",
    "- Splitter: random\n",
    "- Min samples plist: 2\n",
    "- Min samples leaf: 1"
   ]
  },
  {
   "cell_type": "code",
   "execution_count": 90,
   "metadata": {},
   "outputs": [
    {
     "data": {
      "text/html": [
       "<div>\n",
       "<style scoped>\n",
       "    .dataframe tbody tr th:only-of-type {\n",
       "        vertical-align: middle;\n",
       "    }\n",
       "\n",
       "    .dataframe tbody tr th {\n",
       "        vertical-align: top;\n",
       "    }\n",
       "\n",
       "    .dataframe thead th {\n",
       "        text-align: right;\n",
       "    }\n",
       "</style>\n",
       "<table border=\"1\" class=\"dataframe\">\n",
       "  <thead>\n",
       "    <tr style=\"text-align: right;\">\n",
       "      <th></th>\n",
       "      <th>fit_time</th>\n",
       "      <th>score_time</th>\n",
       "      <th>test_accuracy</th>\n",
       "      <th>test_f1</th>\n",
       "      <th>test_precision</th>\n",
       "      <th>test_recall</th>\n",
       "      <th>test_roc_auc</th>\n",
       "      <th>train_accuracy</th>\n",
       "      <th>train_f1</th>\n",
       "      <th>train_precision</th>\n",
       "      <th>train_recall</th>\n",
       "      <th>train_roc_auc</th>\n",
       "    </tr>\n",
       "  </thead>\n",
       "  <tbody>\n",
       "    <tr>\n",
       "      <td>bagging_extra_tree</td>\n",
       "      <td>26.873279</td>\n",
       "      <td>4.346398</td>\n",
       "      <td>0.966605</td>\n",
       "      <td>0.000616</td>\n",
       "      <td>0.06</td>\n",
       "      <td>0.00031</td>\n",
       "      <td>0.612217</td>\n",
       "      <td>0.96694</td>\n",
       "      <td>0.006294</td>\n",
       "      <td>0.849204</td>\n",
       "      <td>0.003159</td>\n",
       "      <td>0.689463</td>\n",
       "    </tr>\n",
       "  </tbody>\n",
       "</table>\n",
       "</div>"
      ],
      "text/plain": [
       "                     fit_time  score_time  test_accuracy   test_f1  \\\n",
       "bagging_extra_tree  26.873279    4.346398       0.966605  0.000616   \n",
       "\n",
       "                    test_precision  test_recall  test_roc_auc  train_accuracy  \\\n",
       "bagging_extra_tree            0.06      0.00031      0.612217         0.96694   \n",
       "\n",
       "                    train_f1  train_precision  train_recall  train_roc_auc  \n",
       "bagging_extra_tree  0.006294         0.849204      0.003159       0.689463  "
      ]
     },
     "execution_count": 90,
     "metadata": {},
     "output_type": "execute_result"
    }
   ],
   "source": [
    "estimador_bagging_extra_tree = BaggingClassifier(\n",
    "    n_estimators=100,\n",
    "    base_estimator=ExtraTreeClassifier()\n",
    ")\n",
    "\n",
    "resultados[\"bagging_extra_tree\"] = evaluar_modelo(\n",
    "    estimador_bagging_extra_tree,\n",
    "    ames_X_rfe10_rf,\n",
    "    y['TARGET_ENFERMEDAD_RESPIRATORIA']\n",
    ")\n",
    "\n",
    "ver_resultados()"
   ]
  },
  {
   "cell_type": "markdown",
   "metadata": {},
   "source": [
    "#### Random Forest\n",
    "\n",
    "Estos serán los parámetros del estimador Random Forest\n",
    "\n",
    "- Número de estimadores: 50\n",
    "- Criterio: gini\n",
    "- Profundidad máxima: Ninguna\n",
    "- Mínimo de muestras por split: 2\n",
    "- Mínimo de muestras por hoja: 1\n",
    "- Procesadores: Todos los disponibles"
   ]
  },
  {
   "cell_type": "code",
   "execution_count": 91,
   "metadata": {},
   "outputs": [
    {
     "data": {
      "text/html": [
       "<div>\n",
       "<style scoped>\n",
       "    .dataframe tbody tr th:only-of-type {\n",
       "        vertical-align: middle;\n",
       "    }\n",
       "\n",
       "    .dataframe tbody tr th {\n",
       "        vertical-align: top;\n",
       "    }\n",
       "\n",
       "    .dataframe thead th {\n",
       "        text-align: right;\n",
       "    }\n",
       "</style>\n",
       "<table border=\"1\" class=\"dataframe\">\n",
       "  <thead>\n",
       "    <tr style=\"text-align: right;\">\n",
       "      <th></th>\n",
       "      <th>fit_time</th>\n",
       "      <th>score_time</th>\n",
       "      <th>test_roc_auc</th>\n",
       "      <th>train_roc_auc</th>\n",
       "      <th>test_accuracy</th>\n",
       "      <th>train_accuracy</th>\n",
       "      <th>test_precision</th>\n",
       "      <th>train_precision</th>\n",
       "      <th>test_recall</th>\n",
       "      <th>train_recall</th>\n",
       "      <th>test_f1</th>\n",
       "      <th>train_f1</th>\n",
       "    </tr>\n",
       "  </thead>\n",
       "  <tbody>\n",
       "    <tr>\n",
       "      <td>bagging_extra_tree</td>\n",
       "      <td>26.873279</td>\n",
       "      <td>4.346398</td>\n",
       "      <td>0.612217</td>\n",
       "      <td>0.689463</td>\n",
       "      <td>0.966605</td>\n",
       "      <td>0.96694</td>\n",
       "      <td>0.060000</td>\n",
       "      <td>0.849204</td>\n",
       "      <td>0.000310</td>\n",
       "      <td>0.003159</td>\n",
       "      <td>0.000616</td>\n",
       "      <td>0.006294</td>\n",
       "    </tr>\n",
       "    <tr>\n",
       "      <td>random_forest</td>\n",
       "      <td>11.096387</td>\n",
       "      <td>2.708615</td>\n",
       "      <td>0.611962</td>\n",
       "      <td>0.689265</td>\n",
       "      <td>0.966591</td>\n",
       "      <td>0.96694</td>\n",
       "      <td>0.066667</td>\n",
       "      <td>0.818580</td>\n",
       "      <td>0.000207</td>\n",
       "      <td>0.003309</td>\n",
       "      <td>0.000412</td>\n",
       "      <td>0.006590</td>\n",
       "    </tr>\n",
       "  </tbody>\n",
       "</table>\n",
       "</div>"
      ],
      "text/plain": [
       "                     fit_time  score_time  test_roc_auc  train_roc_auc  \\\n",
       "bagging_extra_tree  26.873279    4.346398      0.612217       0.689463   \n",
       "random_forest       11.096387    2.708615      0.611962       0.689265   \n",
       "\n",
       "                    test_accuracy  train_accuracy  test_precision  \\\n",
       "bagging_extra_tree       0.966605         0.96694        0.060000   \n",
       "random_forest            0.966591         0.96694        0.066667   \n",
       "\n",
       "                    train_precision  test_recall  train_recall   test_f1  \\\n",
       "bagging_extra_tree         0.849204     0.000310      0.003159  0.000616   \n",
       "random_forest              0.818580     0.000207      0.003309  0.000412   \n",
       "\n",
       "                    train_f1  \n",
       "bagging_extra_tree  0.006294  \n",
       "random_forest       0.006590  "
      ]
     },
     "execution_count": 91,
     "metadata": {},
     "output_type": "execute_result"
    }
   ],
   "source": [
    "resultados[\"random_forest\"] = evaluar_modelo(\n",
    "    RandomForestClassifier(\n",
    "        n_estimators=50,\n",
    "        n_jobs=-1\n",
    "    ),\n",
    "    ames_X_rfe10_rf,\n",
    "    y['TARGET_ENFERMEDAD_RESPIRATORIA']\n",
    ")\n",
    "\n",
    "ver_resultados()"
   ]
  },
  {
   "cell_type": "markdown",
   "metadata": {},
   "source": [
    "#### Gradient Boosting"
   ]
  },
  {
   "cell_type": "code",
   "execution_count": 92,
   "metadata": {},
   "outputs": [
    {
     "data": {
      "text/html": [
       "<div>\n",
       "<style scoped>\n",
       "    .dataframe tbody tr th:only-of-type {\n",
       "        vertical-align: middle;\n",
       "    }\n",
       "\n",
       "    .dataframe tbody tr th {\n",
       "        vertical-align: top;\n",
       "    }\n",
       "\n",
       "    .dataframe thead th {\n",
       "        text-align: right;\n",
       "    }\n",
       "</style>\n",
       "<table border=\"1\" class=\"dataframe\">\n",
       "  <thead>\n",
       "    <tr style=\"text-align: right;\">\n",
       "      <th></th>\n",
       "      <th>fit_time</th>\n",
       "      <th>score_time</th>\n",
       "      <th>test_roc_auc</th>\n",
       "      <th>train_roc_auc</th>\n",
       "      <th>test_accuracy</th>\n",
       "      <th>train_accuracy</th>\n",
       "      <th>test_precision</th>\n",
       "      <th>train_precision</th>\n",
       "      <th>test_recall</th>\n",
       "      <th>train_recall</th>\n",
       "      <th>test_f1</th>\n",
       "      <th>train_f1</th>\n",
       "    </tr>\n",
       "  </thead>\n",
       "  <tbody>\n",
       "    <tr>\n",
       "      <td>bagging_extra_tree</td>\n",
       "      <td>26.873279</td>\n",
       "      <td>4.346398</td>\n",
       "      <td>0.612217</td>\n",
       "      <td>0.689463</td>\n",
       "      <td>0.966605</td>\n",
       "      <td>0.966940</td>\n",
       "      <td>0.060000</td>\n",
       "      <td>0.849204</td>\n",
       "      <td>0.000310</td>\n",
       "      <td>0.003159</td>\n",
       "      <td>0.000616</td>\n",
       "      <td>0.006294</td>\n",
       "    </tr>\n",
       "    <tr>\n",
       "      <td>random_forest</td>\n",
       "      <td>11.096387</td>\n",
       "      <td>2.708615</td>\n",
       "      <td>0.611962</td>\n",
       "      <td>0.689265</td>\n",
       "      <td>0.966591</td>\n",
       "      <td>0.966940</td>\n",
       "      <td>0.066667</td>\n",
       "      <td>0.818580</td>\n",
       "      <td>0.000207</td>\n",
       "      <td>0.003309</td>\n",
       "      <td>0.000412</td>\n",
       "      <td>0.006590</td>\n",
       "    </tr>\n",
       "    <tr>\n",
       "      <td>gradient_boosting</td>\n",
       "      <td>44.425915</td>\n",
       "      <td>0.221649</td>\n",
       "      <td>0.645912</td>\n",
       "      <td>0.653845</td>\n",
       "      <td>0.966855</td>\n",
       "      <td>0.966855</td>\n",
       "      <td>0.000000</td>\n",
       "      <td>0.000000</td>\n",
       "      <td>0.000000</td>\n",
       "      <td>0.000000</td>\n",
       "      <td>0.000000</td>\n",
       "      <td>0.000000</td>\n",
       "    </tr>\n",
       "  </tbody>\n",
       "</table>\n",
       "</div>"
      ],
      "text/plain": [
       "                     fit_time  score_time  test_roc_auc  train_roc_auc  \\\n",
       "bagging_extra_tree  26.873279    4.346398      0.612217       0.689463   \n",
       "random_forest       11.096387    2.708615      0.611962       0.689265   \n",
       "gradient_boosting   44.425915    0.221649      0.645912       0.653845   \n",
       "\n",
       "                    test_accuracy  train_accuracy  test_precision  \\\n",
       "bagging_extra_tree       0.966605        0.966940        0.060000   \n",
       "random_forest            0.966591        0.966940        0.066667   \n",
       "gradient_boosting        0.966855        0.966855        0.000000   \n",
       "\n",
       "                    train_precision  test_recall  train_recall   test_f1  \\\n",
       "bagging_extra_tree         0.849204     0.000310      0.003159  0.000616   \n",
       "random_forest              0.818580     0.000207      0.003309  0.000412   \n",
       "gradient_boosting          0.000000     0.000000      0.000000  0.000000   \n",
       "\n",
       "                    train_f1  \n",
       "bagging_extra_tree  0.006294  \n",
       "random_forest       0.006590  \n",
       "gradient_boosting   0.000000  "
      ]
     },
     "execution_count": 92,
     "metadata": {},
     "output_type": "execute_result"
    }
   ],
   "source": [
    "resultados[\"gradient_boosting\"] = evaluar_modelo(\n",
    "    GradientBoostingClassifier(),\n",
    "    ames_X_rfe10_rf,\n",
    "    y['TARGET_ENFERMEDAD_RESPIRATORIA']\n",
    ")\n",
    "\n",
    "ver_resultados()"
   ]
  },
  {
   "cell_type": "code",
   "execution_count": 93,
   "metadata": {},
   "outputs": [],
   "source": [
    "GradientBoostingClassifier?"
   ]
  },
  {
   "cell_type": "markdown",
   "metadata": {},
   "source": [
    "Para comparar, se incluirá el regresor logístico y el árbol de decisión"
   ]
  },
  {
   "cell_type": "markdown",
   "metadata": {},
   "source": [
    "#### Logistic Regression"
   ]
  },
  {
   "cell_type": "code",
   "execution_count": 94,
   "metadata": {},
   "outputs": [
    {
     "data": {
      "text/html": [
       "<div>\n",
       "<style scoped>\n",
       "    .dataframe tbody tr th:only-of-type {\n",
       "        vertical-align: middle;\n",
       "    }\n",
       "\n",
       "    .dataframe tbody tr th {\n",
       "        vertical-align: top;\n",
       "    }\n",
       "\n",
       "    .dataframe thead th {\n",
       "        text-align: right;\n",
       "    }\n",
       "</style>\n",
       "<table border=\"1\" class=\"dataframe\">\n",
       "  <thead>\n",
       "    <tr style=\"text-align: right;\">\n",
       "      <th></th>\n",
       "      <th>fit_time</th>\n",
       "      <th>score_time</th>\n",
       "      <th>test_roc_auc</th>\n",
       "      <th>train_roc_auc</th>\n",
       "      <th>test_accuracy</th>\n",
       "      <th>train_accuracy</th>\n",
       "      <th>test_precision</th>\n",
       "      <th>train_precision</th>\n",
       "      <th>test_recall</th>\n",
       "      <th>train_recall</th>\n",
       "      <th>test_f1</th>\n",
       "      <th>train_f1</th>\n",
       "    </tr>\n",
       "  </thead>\n",
       "  <tbody>\n",
       "    <tr>\n",
       "      <td>bagging_extra_tree</td>\n",
       "      <td>26.873279</td>\n",
       "      <td>4.346398</td>\n",
       "      <td>0.612217</td>\n",
       "      <td>0.689463</td>\n",
       "      <td>0.966605</td>\n",
       "      <td>0.966940</td>\n",
       "      <td>0.060000</td>\n",
       "      <td>0.849204</td>\n",
       "      <td>0.000310</td>\n",
       "      <td>0.003159</td>\n",
       "      <td>0.000616</td>\n",
       "      <td>0.006294</td>\n",
       "    </tr>\n",
       "    <tr>\n",
       "      <td>random_forest</td>\n",
       "      <td>11.096387</td>\n",
       "      <td>2.708615</td>\n",
       "      <td>0.611962</td>\n",
       "      <td>0.689265</td>\n",
       "      <td>0.966591</td>\n",
       "      <td>0.966940</td>\n",
       "      <td>0.066667</td>\n",
       "      <td>0.818580</td>\n",
       "      <td>0.000207</td>\n",
       "      <td>0.003309</td>\n",
       "      <td>0.000412</td>\n",
       "      <td>0.006590</td>\n",
       "    </tr>\n",
       "    <tr>\n",
       "      <td>gradient_boosting</td>\n",
       "      <td>44.425915</td>\n",
       "      <td>0.221649</td>\n",
       "      <td>0.645912</td>\n",
       "      <td>0.653845</td>\n",
       "      <td>0.966855</td>\n",
       "      <td>0.966855</td>\n",
       "      <td>0.000000</td>\n",
       "      <td>0.000000</td>\n",
       "      <td>0.000000</td>\n",
       "      <td>0.000000</td>\n",
       "      <td>0.000000</td>\n",
       "      <td>0.000000</td>\n",
       "    </tr>\n",
       "    <tr>\n",
       "      <td>logistic_regression</td>\n",
       "      <td>1.389730</td>\n",
       "      <td>0.039066</td>\n",
       "      <td>0.645184</td>\n",
       "      <td>0.646414</td>\n",
       "      <td>0.966855</td>\n",
       "      <td>0.966855</td>\n",
       "      <td>0.000000</td>\n",
       "      <td>0.000000</td>\n",
       "      <td>0.000000</td>\n",
       "      <td>0.000000</td>\n",
       "      <td>0.000000</td>\n",
       "      <td>0.000000</td>\n",
       "    </tr>\n",
       "  </tbody>\n",
       "</table>\n",
       "</div>"
      ],
      "text/plain": [
       "                      fit_time  score_time  test_roc_auc  train_roc_auc  \\\n",
       "bagging_extra_tree   26.873279    4.346398      0.612217       0.689463   \n",
       "random_forest        11.096387    2.708615      0.611962       0.689265   \n",
       "gradient_boosting    44.425915    0.221649      0.645912       0.653845   \n",
       "logistic_regression   1.389730    0.039066      0.645184       0.646414   \n",
       "\n",
       "                     test_accuracy  train_accuracy  test_precision  \\\n",
       "bagging_extra_tree        0.966605        0.966940        0.060000   \n",
       "random_forest             0.966591        0.966940        0.066667   \n",
       "gradient_boosting         0.966855        0.966855        0.000000   \n",
       "logistic_regression       0.966855        0.966855        0.000000   \n",
       "\n",
       "                     train_precision  test_recall  train_recall   test_f1  \\\n",
       "bagging_extra_tree          0.849204     0.000310      0.003159  0.000616   \n",
       "random_forest               0.818580     0.000207      0.003309  0.000412   \n",
       "gradient_boosting           0.000000     0.000000      0.000000  0.000000   \n",
       "logistic_regression         0.000000     0.000000      0.000000  0.000000   \n",
       "\n",
       "                     train_f1  \n",
       "bagging_extra_tree   0.006294  \n",
       "random_forest        0.006590  \n",
       "gradient_boosting    0.000000  \n",
       "logistic_regression  0.000000  "
      ]
     },
     "execution_count": 94,
     "metadata": {},
     "output_type": "execute_result"
    }
   ],
   "source": [
    "resultados[\"logistic_regression\"] = evaluar_modelo(\n",
    "    LogisticRegression(solver='liblinear'),\n",
    "    ames_X_rfe10_rf,\n",
    "    y['TARGET_ENFERMEDAD_RESPIRATORIA']\n",
    ")\n",
    "\n",
    "ver_resultados()"
   ]
  },
  {
   "cell_type": "code",
   "execution_count": 95,
   "metadata": {},
   "outputs": [
    {
     "data": {
      "text/html": [
       "<div>\n",
       "<style scoped>\n",
       "    .dataframe tbody tr th:only-of-type {\n",
       "        vertical-align: middle;\n",
       "    }\n",
       "\n",
       "    .dataframe tbody tr th {\n",
       "        vertical-align: top;\n",
       "    }\n",
       "\n",
       "    .dataframe thead th {\n",
       "        text-align: right;\n",
       "    }\n",
       "</style>\n",
       "<table border=\"1\" class=\"dataframe\">\n",
       "  <thead>\n",
       "    <tr style=\"text-align: right;\">\n",
       "      <th></th>\n",
       "      <th>fit_time</th>\n",
       "      <th>score_time</th>\n",
       "      <th>test_roc_auc</th>\n",
       "      <th>train_roc_auc</th>\n",
       "      <th>test_accuracy</th>\n",
       "      <th>train_accuracy</th>\n",
       "      <th>test_precision</th>\n",
       "      <th>train_precision</th>\n",
       "      <th>test_recall</th>\n",
       "      <th>train_recall</th>\n",
       "      <th>test_f1</th>\n",
       "      <th>train_f1</th>\n",
       "    </tr>\n",
       "  </thead>\n",
       "  <tbody>\n",
       "    <tr>\n",
       "      <td>bagging_extra_tree</td>\n",
       "      <td>26.873279</td>\n",
       "      <td>4.346398</td>\n",
       "      <td>0.612217</td>\n",
       "      <td>0.689463</td>\n",
       "      <td>0.966605</td>\n",
       "      <td>0.966940</td>\n",
       "      <td>0.060000</td>\n",
       "      <td>0.849204</td>\n",
       "      <td>0.000310</td>\n",
       "      <td>0.003159</td>\n",
       "      <td>0.000616</td>\n",
       "      <td>0.006294</td>\n",
       "    </tr>\n",
       "    <tr>\n",
       "      <td>random_forest</td>\n",
       "      <td>11.096387</td>\n",
       "      <td>2.708615</td>\n",
       "      <td>0.611962</td>\n",
       "      <td>0.689265</td>\n",
       "      <td>0.966591</td>\n",
       "      <td>0.966940</td>\n",
       "      <td>0.066667</td>\n",
       "      <td>0.818580</td>\n",
       "      <td>0.000207</td>\n",
       "      <td>0.003309</td>\n",
       "      <td>0.000412</td>\n",
       "      <td>0.006590</td>\n",
       "    </tr>\n",
       "    <tr>\n",
       "      <td>gradient_boosting</td>\n",
       "      <td>44.425915</td>\n",
       "      <td>0.221649</td>\n",
       "      <td>0.645912</td>\n",
       "      <td>0.653845</td>\n",
       "      <td>0.966855</td>\n",
       "      <td>0.966855</td>\n",
       "      <td>0.000000</td>\n",
       "      <td>0.000000</td>\n",
       "      <td>0.000000</td>\n",
       "      <td>0.000000</td>\n",
       "      <td>0.000000</td>\n",
       "      <td>0.000000</td>\n",
       "    </tr>\n",
       "    <tr>\n",
       "      <td>logistic_regression</td>\n",
       "      <td>1.389730</td>\n",
       "      <td>0.039066</td>\n",
       "      <td>0.645184</td>\n",
       "      <td>0.646414</td>\n",
       "      <td>0.966855</td>\n",
       "      <td>0.966855</td>\n",
       "      <td>0.000000</td>\n",
       "      <td>0.000000</td>\n",
       "      <td>0.000000</td>\n",
       "      <td>0.000000</td>\n",
       "      <td>0.000000</td>\n",
       "      <td>0.000000</td>\n",
       "    </tr>\n",
       "    <tr>\n",
       "      <td>tree</td>\n",
       "      <td>0.708337</td>\n",
       "      <td>0.056255</td>\n",
       "      <td>0.610997</td>\n",
       "      <td>0.689839</td>\n",
       "      <td>0.966478</td>\n",
       "      <td>0.966940</td>\n",
       "      <td>0.077692</td>\n",
       "      <td>0.903663</td>\n",
       "      <td>0.000310</td>\n",
       "      <td>0.002883</td>\n",
       "      <td>0.000616</td>\n",
       "      <td>0.005748</td>\n",
       "    </tr>\n",
       "  </tbody>\n",
       "</table>\n",
       "</div>"
      ],
      "text/plain": [
       "                      fit_time  score_time  test_roc_auc  train_roc_auc  \\\n",
       "bagging_extra_tree   26.873279    4.346398      0.612217       0.689463   \n",
       "random_forest        11.096387    2.708615      0.611962       0.689265   \n",
       "gradient_boosting    44.425915    0.221649      0.645912       0.653845   \n",
       "logistic_regression   1.389730    0.039066      0.645184       0.646414   \n",
       "tree                  0.708337    0.056255      0.610997       0.689839   \n",
       "\n",
       "                     test_accuracy  train_accuracy  test_precision  \\\n",
       "bagging_extra_tree        0.966605        0.966940        0.060000   \n",
       "random_forest             0.966591        0.966940        0.066667   \n",
       "gradient_boosting         0.966855        0.966855        0.000000   \n",
       "logistic_regression       0.966855        0.966855        0.000000   \n",
       "tree                      0.966478        0.966940        0.077692   \n",
       "\n",
       "                     train_precision  test_recall  train_recall   test_f1  \\\n",
       "bagging_extra_tree          0.849204     0.000310      0.003159  0.000616   \n",
       "random_forest               0.818580     0.000207      0.003309  0.000412   \n",
       "gradient_boosting           0.000000     0.000000      0.000000  0.000000   \n",
       "logistic_regression         0.000000     0.000000      0.000000  0.000000   \n",
       "tree                        0.903663     0.000310      0.002883  0.000616   \n",
       "\n",
       "                     train_f1  \n",
       "bagging_extra_tree   0.006294  \n",
       "random_forest        0.006590  \n",
       "gradient_boosting    0.000000  \n",
       "logistic_regression  0.000000  \n",
       "tree                 0.005748  "
      ]
     },
     "execution_count": 95,
     "metadata": {},
     "output_type": "execute_result"
    }
   ],
   "source": [
    "resultados[\"tree\"] = evaluar_modelo(\n",
    "    DecisionTreeClassifier(),\n",
    "    ames_X_rfe10_rf,\n",
    "    y['TARGET_ENFERMEDAD_RESPIRATORIA']\n",
    ")\n",
    "\n",
    "ver_resultados()"
   ]
  },
  {
   "cell_type": "markdown",
   "metadata": {},
   "source": [
    "Vemos que el gradient boosting es el estimador con mejor score, sin embargo el tiempo de entrenamiento es mucho mayor que el de regresión logistica, y la diferencia en el score es miníscula.\n",
    "\n",
    "Se realizará la prueba con un estimador adicional, un SVM."
   ]
  },
  {
   "cell_type": "markdown",
   "metadata": {},
   "source": [
    "#### LinearSVC"
   ]
  },
  {
   "cell_type": "code",
   "execution_count": 96,
   "metadata": {},
   "outputs": [],
   "source": [
    "from sklearn.svm import LinearSVC"
   ]
  },
  {
   "cell_type": "code",
   "execution_count": 106,
   "metadata": {},
   "outputs": [],
   "source": [
    "LinearSVC?"
   ]
  },
  {
   "cell_type": "code",
   "execution_count": 98,
   "metadata": {},
   "outputs": [
    {
     "data": {
      "text/html": [
       "<div>\n",
       "<style scoped>\n",
       "    .dataframe tbody tr th:only-of-type {\n",
       "        vertical-align: middle;\n",
       "    }\n",
       "\n",
       "    .dataframe tbody tr th {\n",
       "        vertical-align: top;\n",
       "    }\n",
       "\n",
       "    .dataframe thead th {\n",
       "        text-align: right;\n",
       "    }\n",
       "</style>\n",
       "<table border=\"1\" class=\"dataframe\">\n",
       "  <thead>\n",
       "    <tr style=\"text-align: right;\">\n",
       "      <th></th>\n",
       "      <th>fit_time</th>\n",
       "      <th>score_time</th>\n",
       "      <th>test_roc_auc</th>\n",
       "      <th>train_roc_auc</th>\n",
       "      <th>test_accuracy</th>\n",
       "      <th>train_accuracy</th>\n",
       "      <th>test_precision</th>\n",
       "      <th>train_precision</th>\n",
       "      <th>test_recall</th>\n",
       "      <th>train_recall</th>\n",
       "      <th>test_f1</th>\n",
       "      <th>train_f1</th>\n",
       "    </tr>\n",
       "  </thead>\n",
       "  <tbody>\n",
       "    <tr>\n",
       "      <td>bagging_extra_tree</td>\n",
       "      <td>26.873279</td>\n",
       "      <td>4.346398</td>\n",
       "      <td>0.612217</td>\n",
       "      <td>0.689463</td>\n",
       "      <td>0.966605</td>\n",
       "      <td>0.966940</td>\n",
       "      <td>0.060000</td>\n",
       "      <td>0.849204</td>\n",
       "      <td>0.000310</td>\n",
       "      <td>0.003159</td>\n",
       "      <td>0.000616</td>\n",
       "      <td>0.006294</td>\n",
       "    </tr>\n",
       "    <tr>\n",
       "      <td>random_forest</td>\n",
       "      <td>11.096387</td>\n",
       "      <td>2.708615</td>\n",
       "      <td>0.611962</td>\n",
       "      <td>0.689265</td>\n",
       "      <td>0.966591</td>\n",
       "      <td>0.966940</td>\n",
       "      <td>0.066667</td>\n",
       "      <td>0.818580</td>\n",
       "      <td>0.000207</td>\n",
       "      <td>0.003309</td>\n",
       "      <td>0.000412</td>\n",
       "      <td>0.006590</td>\n",
       "    </tr>\n",
       "    <tr>\n",
       "      <td>gradient_boosting</td>\n",
       "      <td>44.425915</td>\n",
       "      <td>0.221649</td>\n",
       "      <td>0.645912</td>\n",
       "      <td>0.653845</td>\n",
       "      <td>0.966855</td>\n",
       "      <td>0.966855</td>\n",
       "      <td>0.000000</td>\n",
       "      <td>0.000000</td>\n",
       "      <td>0.000000</td>\n",
       "      <td>0.000000</td>\n",
       "      <td>0.000000</td>\n",
       "      <td>0.000000</td>\n",
       "    </tr>\n",
       "    <tr>\n",
       "      <td>logistic_regression</td>\n",
       "      <td>1.389730</td>\n",
       "      <td>0.039066</td>\n",
       "      <td>0.645184</td>\n",
       "      <td>0.646414</td>\n",
       "      <td>0.966855</td>\n",
       "      <td>0.966855</td>\n",
       "      <td>0.000000</td>\n",
       "      <td>0.000000</td>\n",
       "      <td>0.000000</td>\n",
       "      <td>0.000000</td>\n",
       "      <td>0.000000</td>\n",
       "      <td>0.000000</td>\n",
       "    </tr>\n",
       "    <tr>\n",
       "      <td>tree</td>\n",
       "      <td>0.708337</td>\n",
       "      <td>0.056255</td>\n",
       "      <td>0.610997</td>\n",
       "      <td>0.689839</td>\n",
       "      <td>0.966478</td>\n",
       "      <td>0.966940</td>\n",
       "      <td>0.077692</td>\n",
       "      <td>0.903663</td>\n",
       "      <td>0.000310</td>\n",
       "      <td>0.002883</td>\n",
       "      <td>0.000616</td>\n",
       "      <td>0.005748</td>\n",
       "    </tr>\n",
       "    <tr>\n",
       "      <td>svc</td>\n",
       "      <td>95.164172</td>\n",
       "      <td>0.037678</td>\n",
       "      <td>0.645072</td>\n",
       "      <td>0.646272</td>\n",
       "      <td>0.966855</td>\n",
       "      <td>0.966855</td>\n",
       "      <td>0.000000</td>\n",
       "      <td>0.000000</td>\n",
       "      <td>0.000000</td>\n",
       "      <td>0.000000</td>\n",
       "      <td>0.000000</td>\n",
       "      <td>0.000000</td>\n",
       "    </tr>\n",
       "  </tbody>\n",
       "</table>\n",
       "</div>"
      ],
      "text/plain": [
       "                      fit_time  score_time  test_roc_auc  train_roc_auc  \\\n",
       "bagging_extra_tree   26.873279    4.346398      0.612217       0.689463   \n",
       "random_forest        11.096387    2.708615      0.611962       0.689265   \n",
       "gradient_boosting    44.425915    0.221649      0.645912       0.653845   \n",
       "logistic_regression   1.389730    0.039066      0.645184       0.646414   \n",
       "tree                  0.708337    0.056255      0.610997       0.689839   \n",
       "svc                  95.164172    0.037678      0.645072       0.646272   \n",
       "\n",
       "                     test_accuracy  train_accuracy  test_precision  \\\n",
       "bagging_extra_tree        0.966605        0.966940        0.060000   \n",
       "random_forest             0.966591        0.966940        0.066667   \n",
       "gradient_boosting         0.966855        0.966855        0.000000   \n",
       "logistic_regression       0.966855        0.966855        0.000000   \n",
       "tree                      0.966478        0.966940        0.077692   \n",
       "svc                       0.966855        0.966855        0.000000   \n",
       "\n",
       "                     train_precision  test_recall  train_recall   test_f1  \\\n",
       "bagging_extra_tree          0.849204     0.000310      0.003159  0.000616   \n",
       "random_forest               0.818580     0.000207      0.003309  0.000412   \n",
       "gradient_boosting           0.000000     0.000000      0.000000  0.000000   \n",
       "logistic_regression         0.000000     0.000000      0.000000  0.000000   \n",
       "tree                        0.903663     0.000310      0.002883  0.000616   \n",
       "svc                         0.000000     0.000000      0.000000  0.000000   \n",
       "\n",
       "                     train_f1  \n",
       "bagging_extra_tree   0.006294  \n",
       "random_forest        0.006590  \n",
       "gradient_boosting    0.000000  \n",
       "logistic_regression  0.000000  \n",
       "tree                 0.005748  \n",
       "svc                  0.000000  "
      ]
     },
     "execution_count": 98,
     "metadata": {},
     "output_type": "execute_result"
    }
   ],
   "source": [
    "resultados[\"svc\"] = evaluar_modelo(\n",
    "    LinearSVC(\n",
    "        random_state=0,\n",
    "        penalty='l2',\n",
    "        C=1.0\n",
    "    ),\n",
    "    ames_X_rfe10_rf,\n",
    "    y['TARGET_ENFERMEDAD_RESPIRATORIA']\n",
    ")\n",
    "\n",
    "ver_resultados()"
   ]
  },
  {
   "cell_type": "code",
   "execution_count": 107,
   "metadata": {},
   "outputs": [
    {
     "data": {
      "text/html": [
       "<div>\n",
       "<style scoped>\n",
       "    .dataframe tbody tr th:only-of-type {\n",
       "        vertical-align: middle;\n",
       "    }\n",
       "\n",
       "    .dataframe tbody tr th {\n",
       "        vertical-align: top;\n",
       "    }\n",
       "\n",
       "    .dataframe thead th {\n",
       "        text-align: right;\n",
       "    }\n",
       "</style>\n",
       "<table border=\"1\" class=\"dataframe\">\n",
       "  <thead>\n",
       "    <tr style=\"text-align: right;\">\n",
       "      <th></th>\n",
       "      <th>bagging_extra_tree</th>\n",
       "      <th>random_forest</th>\n",
       "      <th>gradient_boosting</th>\n",
       "      <th>logistic_regression</th>\n",
       "      <th>tree</th>\n",
       "      <th>svc</th>\n",
       "    </tr>\n",
       "  </thead>\n",
       "  <tbody>\n",
       "    <tr>\n",
       "      <td>fit_time</td>\n",
       "      <td>26.873279</td>\n",
       "      <td>11.096387</td>\n",
       "      <td>44.425915</td>\n",
       "      <td>1.389730</td>\n",
       "      <td>0.708337</td>\n",
       "      <td>95.164172</td>\n",
       "    </tr>\n",
       "    <tr>\n",
       "      <td>score_time</td>\n",
       "      <td>4.346398</td>\n",
       "      <td>2.708615</td>\n",
       "      <td>0.221649</td>\n",
       "      <td>0.039066</td>\n",
       "      <td>0.056255</td>\n",
       "      <td>0.037678</td>\n",
       "    </tr>\n",
       "    <tr>\n",
       "      <td>test_roc_auc</td>\n",
       "      <td>0.612217</td>\n",
       "      <td>0.611962</td>\n",
       "      <td>0.645912</td>\n",
       "      <td>0.645184</td>\n",
       "      <td>0.610997</td>\n",
       "      <td>0.645072</td>\n",
       "    </tr>\n",
       "    <tr>\n",
       "      <td>train_roc_auc</td>\n",
       "      <td>0.689463</td>\n",
       "      <td>0.689265</td>\n",
       "      <td>0.653845</td>\n",
       "      <td>0.646414</td>\n",
       "      <td>0.689839</td>\n",
       "      <td>0.646272</td>\n",
       "    </tr>\n",
       "    <tr>\n",
       "      <td>test_accuracy</td>\n",
       "      <td>0.966605</td>\n",
       "      <td>0.966591</td>\n",
       "      <td>0.966855</td>\n",
       "      <td>0.966855</td>\n",
       "      <td>0.966478</td>\n",
       "      <td>0.966855</td>\n",
       "    </tr>\n",
       "    <tr>\n",
       "      <td>train_accuracy</td>\n",
       "      <td>0.966940</td>\n",
       "      <td>0.966940</td>\n",
       "      <td>0.966855</td>\n",
       "      <td>0.966855</td>\n",
       "      <td>0.966940</td>\n",
       "      <td>0.966855</td>\n",
       "    </tr>\n",
       "    <tr>\n",
       "      <td>test_precision</td>\n",
       "      <td>0.060000</td>\n",
       "      <td>0.066667</td>\n",
       "      <td>0.000000</td>\n",
       "      <td>0.000000</td>\n",
       "      <td>0.077692</td>\n",
       "      <td>0.000000</td>\n",
       "    </tr>\n",
       "    <tr>\n",
       "      <td>train_precision</td>\n",
       "      <td>0.849204</td>\n",
       "      <td>0.818580</td>\n",
       "      <td>0.000000</td>\n",
       "      <td>0.000000</td>\n",
       "      <td>0.903663</td>\n",
       "      <td>0.000000</td>\n",
       "    </tr>\n",
       "    <tr>\n",
       "      <td>test_recall</td>\n",
       "      <td>0.000310</td>\n",
       "      <td>0.000207</td>\n",
       "      <td>0.000000</td>\n",
       "      <td>0.000000</td>\n",
       "      <td>0.000310</td>\n",
       "      <td>0.000000</td>\n",
       "    </tr>\n",
       "    <tr>\n",
       "      <td>train_recall</td>\n",
       "      <td>0.003159</td>\n",
       "      <td>0.003309</td>\n",
       "      <td>0.000000</td>\n",
       "      <td>0.000000</td>\n",
       "      <td>0.002883</td>\n",
       "      <td>0.000000</td>\n",
       "    </tr>\n",
       "    <tr>\n",
       "      <td>test_f1</td>\n",
       "      <td>0.000616</td>\n",
       "      <td>0.000412</td>\n",
       "      <td>0.000000</td>\n",
       "      <td>0.000000</td>\n",
       "      <td>0.000616</td>\n",
       "      <td>0.000000</td>\n",
       "    </tr>\n",
       "    <tr>\n",
       "      <td>train_f1</td>\n",
       "      <td>0.006294</td>\n",
       "      <td>0.006590</td>\n",
       "      <td>0.000000</td>\n",
       "      <td>0.000000</td>\n",
       "      <td>0.005748</td>\n",
       "      <td>0.000000</td>\n",
       "    </tr>\n",
       "  </tbody>\n",
       "</table>\n",
       "</div>"
      ],
      "text/plain": [
       "                 bagging_extra_tree  random_forest  gradient_boosting  \\\n",
       "fit_time                  26.873279      11.096387          44.425915   \n",
       "score_time                 4.346398       2.708615           0.221649   \n",
       "test_roc_auc               0.612217       0.611962           0.645912   \n",
       "train_roc_auc              0.689463       0.689265           0.653845   \n",
       "test_accuracy              0.966605       0.966591           0.966855   \n",
       "train_accuracy             0.966940       0.966940           0.966855   \n",
       "test_precision             0.060000       0.066667           0.000000   \n",
       "train_precision            0.849204       0.818580           0.000000   \n",
       "test_recall                0.000310       0.000207           0.000000   \n",
       "train_recall               0.003159       0.003309           0.000000   \n",
       "test_f1                    0.000616       0.000412           0.000000   \n",
       "train_f1                   0.006294       0.006590           0.000000   \n",
       "\n",
       "                 logistic_regression      tree        svc  \n",
       "fit_time                    1.389730  0.708337  95.164172  \n",
       "score_time                  0.039066  0.056255   0.037678  \n",
       "test_roc_auc                0.645184  0.610997   0.645072  \n",
       "train_roc_auc               0.646414  0.689839   0.646272  \n",
       "test_accuracy               0.966855  0.966478   0.966855  \n",
       "train_accuracy              0.966855  0.966940   0.966855  \n",
       "test_precision              0.000000  0.077692   0.000000  \n",
       "train_precision             0.000000  0.903663   0.000000  \n",
       "test_recall                 0.000000  0.000310   0.000000  \n",
       "train_recall                0.000000  0.002883   0.000000  \n",
       "test_f1                     0.000000  0.000616   0.000000  \n",
       "train_f1                    0.000000  0.005748   0.000000  "
      ]
     },
     "execution_count": 107,
     "metadata": {},
     "output_type": "execute_result"
    }
   ],
   "source": [
    "ver_resultados().T"
   ]
  },
  {
   "cell_type": "markdown",
   "metadata": {},
   "source": [
    "## Re-sampling\n",
    "\n",
    "Debido a que el label mayoritario en el dataset es 0, el cual significa que la persona no ha sido diagnosticado con ninguna enfermedad respiratoria, y a la luz de los resultados obtenidos, se intentará obtener mejores resultados a partir de aplicar una técnica de re-muestreo. Para este caso, se utilizará Down-sample de la clase mayoritaria"
   ]
  },
  {
   "cell_type": "code",
   "execution_count": 129,
   "metadata": {},
   "outputs": [
    {
     "data": {
      "text/plain": [
       "0         0\n",
       "1         0\n",
       "2         0\n",
       "3         0\n",
       "4         0\n",
       "         ..\n",
       "291802    0\n",
       "291803    0\n",
       "291804    0\n",
       "291805    0\n",
       "291806    0\n",
       "Name: TARGET_ENFERMEDAD_RESPIRATORIA, Length: 291807, dtype: int64"
      ]
     },
     "execution_count": 129,
     "metadata": {},
     "output_type": "execute_result"
    }
   ],
   "source": [
    "y['TARGET_ENFERMEDAD_RESPIRATORIA']"
   ]
  },
  {
   "cell_type": "code",
   "execution_count": 143,
   "metadata": {},
   "outputs": [
    {
     "data": {
      "text/html": [
       "<div>\n",
       "<style scoped>\n",
       "    .dataframe tbody tr th:only-of-type {\n",
       "        vertical-align: middle;\n",
       "    }\n",
       "\n",
       "    .dataframe tbody tr th {\n",
       "        vertical-align: top;\n",
       "    }\n",
       "\n",
       "    .dataframe thead th {\n",
       "        text-align: right;\n",
       "    }\n",
       "</style>\n",
       "<table border=\"1\" class=\"dataframe\">\n",
       "  <thead>\n",
       "    <tr style=\"text-align: right;\">\n",
       "      <th></th>\n",
       "      <th>VIV_ESTRATO</th>\n",
       "      <th>SEGURIDAD_SOCIAL_REGIMEN_contributivo</th>\n",
       "      <th>CONSULTA_MEDICINA_ESPECIALIZADA_SI</th>\n",
       "      <th>VIV_TIPO_casa</th>\n",
       "      <th>VIV_CERCANIA_FABRICAS_NO</th>\n",
       "      <th>VIV_CERCANIA_BOTADEROS_SI</th>\n",
       "      <th>VIV_CERCANIA_CANO_AGUAS_NO</th>\n",
       "      <th>SECTOR_CONTAMINACION_AIRE_SI</th>\n",
       "      <th>SECTOR_MAL_OLOR_NO</th>\n",
       "      <th>SECTOR_MAL_MANEJO_BASURAS_SI</th>\n",
       "    </tr>\n",
       "  </thead>\n",
       "  <tbody>\n",
       "    <tr>\n",
       "      <td>0</td>\n",
       "      <td>-0.549172</td>\n",
       "      <td>0.615813</td>\n",
       "      <td>-0.623265</td>\n",
       "      <td>-0.893354</td>\n",
       "      <td>0.39224</td>\n",
       "      <td>-0.294969</td>\n",
       "      <td>0.373523</td>\n",
       "      <td>-0.648804</td>\n",
       "      <td>-1.510450</td>\n",
       "      <td>-0.447112</td>\n",
       "    </tr>\n",
       "    <tr>\n",
       "      <td>1</td>\n",
       "      <td>-0.549172</td>\n",
       "      <td>0.615813</td>\n",
       "      <td>1.604453</td>\n",
       "      <td>-0.893354</td>\n",
       "      <td>0.39224</td>\n",
       "      <td>-0.294969</td>\n",
       "      <td>0.373523</td>\n",
       "      <td>-0.648804</td>\n",
       "      <td>-1.510450</td>\n",
       "      <td>-0.447112</td>\n",
       "    </tr>\n",
       "    <tr>\n",
       "      <td>2</td>\n",
       "      <td>-0.549172</td>\n",
       "      <td>0.615813</td>\n",
       "      <td>-0.623265</td>\n",
       "      <td>-0.893354</td>\n",
       "      <td>0.39224</td>\n",
       "      <td>-0.294969</td>\n",
       "      <td>0.373523</td>\n",
       "      <td>-0.648804</td>\n",
       "      <td>-1.510450</td>\n",
       "      <td>-0.447112</td>\n",
       "    </tr>\n",
       "    <tr>\n",
       "      <td>3</td>\n",
       "      <td>0.511181</td>\n",
       "      <td>-1.623869</td>\n",
       "      <td>-0.623265</td>\n",
       "      <td>-0.893354</td>\n",
       "      <td>0.39224</td>\n",
       "      <td>-0.294969</td>\n",
       "      <td>0.373523</td>\n",
       "      <td>-0.648804</td>\n",
       "      <td>0.662054</td>\n",
       "      <td>-0.447112</td>\n",
       "    </tr>\n",
       "    <tr>\n",
       "      <td>4</td>\n",
       "      <td>0.511181</td>\n",
       "      <td>-1.623869</td>\n",
       "      <td>-0.623265</td>\n",
       "      <td>-0.893354</td>\n",
       "      <td>0.39224</td>\n",
       "      <td>-0.294969</td>\n",
       "      <td>0.373523</td>\n",
       "      <td>-0.648804</td>\n",
       "      <td>0.662054</td>\n",
       "      <td>-0.447112</td>\n",
       "    </tr>\n",
       "  </tbody>\n",
       "</table>\n",
       "</div>"
      ],
      "text/plain": [
       "   VIV_ESTRATO  SEGURIDAD_SOCIAL_REGIMEN_contributivo  \\\n",
       "0    -0.549172                               0.615813   \n",
       "1    -0.549172                               0.615813   \n",
       "2    -0.549172                               0.615813   \n",
       "3     0.511181                              -1.623869   \n",
       "4     0.511181                              -1.623869   \n",
       "\n",
       "   CONSULTA_MEDICINA_ESPECIALIZADA_SI  VIV_TIPO_casa  \\\n",
       "0                           -0.623265      -0.893354   \n",
       "1                            1.604453      -0.893354   \n",
       "2                           -0.623265      -0.893354   \n",
       "3                           -0.623265      -0.893354   \n",
       "4                           -0.623265      -0.893354   \n",
       "\n",
       "   VIV_CERCANIA_FABRICAS_NO  VIV_CERCANIA_BOTADEROS_SI  \\\n",
       "0                   0.39224                  -0.294969   \n",
       "1                   0.39224                  -0.294969   \n",
       "2                   0.39224                  -0.294969   \n",
       "3                   0.39224                  -0.294969   \n",
       "4                   0.39224                  -0.294969   \n",
       "\n",
       "   VIV_CERCANIA_CANO_AGUAS_NO  SECTOR_CONTAMINACION_AIRE_SI  \\\n",
       "0                    0.373523                     -0.648804   \n",
       "1                    0.373523                     -0.648804   \n",
       "2                    0.373523                     -0.648804   \n",
       "3                    0.373523                     -0.648804   \n",
       "4                    0.373523                     -0.648804   \n",
       "\n",
       "   SECTOR_MAL_OLOR_NO  SECTOR_MAL_MANEJO_BASURAS_SI  \n",
       "0           -1.510450                     -0.447112  \n",
       "1           -1.510450                     -0.447112  \n",
       "2           -1.510450                     -0.447112  \n",
       "3            0.662054                     -0.447112  \n",
       "4            0.662054                     -0.447112  "
      ]
     },
     "execution_count": 143,
     "metadata": {},
     "output_type": "execute_result"
    }
   ],
   "source": [
    "columnas = [\n",
    "    'VIV_ESTRATO',\n",
    "     'SEGURIDAD_SOCIAL_REGIMEN_contributivo',\n",
    "     'CONSULTA_MEDICINA_ESPECIALIZADA_SI',\n",
    "     'VIV_TIPO_casa',\n",
    "     'VIV_CERCANIA_FABRICAS_NO',\n",
    "     'VIV_CERCANIA_BOTADEROS_SI',\n",
    "     'VIV_CERCANIA_CANO_AGUAS_NO',\n",
    "     'SECTOR_CONTAMINACION_AIRE_SI',\n",
    "     'SECTOR_MAL_OLOR_NO',\n",
    "     'SECTOR_MAL_MANEJO_BASURAS_SI'\n",
    "]\n",
    "\n",
    "df_X = pd.DataFrame(ames_X_rfe10_rf, columns=columnas)\n",
    "df_X.head()"
   ]
  },
  {
   "cell_type": "code",
   "execution_count": 144,
   "metadata": {},
   "outputs": [
    {
     "data": {
      "text/html": [
       "<div>\n",
       "<style scoped>\n",
       "    .dataframe tbody tr th:only-of-type {\n",
       "        vertical-align: middle;\n",
       "    }\n",
       "\n",
       "    .dataframe tbody tr th {\n",
       "        vertical-align: top;\n",
       "    }\n",
       "\n",
       "    .dataframe thead th {\n",
       "        text-align: right;\n",
       "    }\n",
       "</style>\n",
       "<table border=\"1\" class=\"dataframe\">\n",
       "  <thead>\n",
       "    <tr style=\"text-align: right;\">\n",
       "      <th></th>\n",
       "      <th>TARGET_ENFERMEDAD_RESPIRATORIA</th>\n",
       "    </tr>\n",
       "  </thead>\n",
       "  <tbody>\n",
       "    <tr>\n",
       "      <td>0</td>\n",
       "      <td>0</td>\n",
       "    </tr>\n",
       "    <tr>\n",
       "      <td>1</td>\n",
       "      <td>0</td>\n",
       "    </tr>\n",
       "    <tr>\n",
       "      <td>2</td>\n",
       "      <td>0</td>\n",
       "    </tr>\n",
       "    <tr>\n",
       "      <td>3</td>\n",
       "      <td>0</td>\n",
       "    </tr>\n",
       "    <tr>\n",
       "      <td>4</td>\n",
       "      <td>0</td>\n",
       "    </tr>\n",
       "  </tbody>\n",
       "</table>\n",
       "</div>"
      ],
      "text/plain": [
       "   TARGET_ENFERMEDAD_RESPIRATORIA\n",
       "0                               0\n",
       "1                               0\n",
       "2                               0\n",
       "3                               0\n",
       "4                               0"
      ]
     },
     "execution_count": 144,
     "metadata": {},
     "output_type": "execute_result"
    }
   ],
   "source": [
    "y.head()"
   ]
  },
  {
   "cell_type": "code",
   "execution_count": 145,
   "metadata": {},
   "outputs": [
    {
     "data": {
      "text/html": [
       "<div>\n",
       "<style scoped>\n",
       "    .dataframe tbody tr th:only-of-type {\n",
       "        vertical-align: middle;\n",
       "    }\n",
       "\n",
       "    .dataframe tbody tr th {\n",
       "        vertical-align: top;\n",
       "    }\n",
       "\n",
       "    .dataframe thead th {\n",
       "        text-align: right;\n",
       "    }\n",
       "</style>\n",
       "<table border=\"1\" class=\"dataframe\">\n",
       "  <thead>\n",
       "    <tr style=\"text-align: right;\">\n",
       "      <th></th>\n",
       "      <th>VIV_ESTRATO</th>\n",
       "      <th>SEGURIDAD_SOCIAL_REGIMEN_contributivo</th>\n",
       "      <th>CONSULTA_MEDICINA_ESPECIALIZADA_SI</th>\n",
       "      <th>VIV_TIPO_casa</th>\n",
       "      <th>VIV_CERCANIA_FABRICAS_NO</th>\n",
       "      <th>VIV_CERCANIA_BOTADEROS_SI</th>\n",
       "      <th>VIV_CERCANIA_CANO_AGUAS_NO</th>\n",
       "      <th>SECTOR_CONTAMINACION_AIRE_SI</th>\n",
       "      <th>SECTOR_MAL_OLOR_NO</th>\n",
       "      <th>SECTOR_MAL_MANEJO_BASURAS_SI</th>\n",
       "      <th>TARGET_ENFERMEDAD_RESPIRATORIA</th>\n",
       "    </tr>\n",
       "  </thead>\n",
       "  <tbody>\n",
       "    <tr>\n",
       "      <td>0</td>\n",
       "      <td>-0.549172</td>\n",
       "      <td>0.615813</td>\n",
       "      <td>-0.623265</td>\n",
       "      <td>-0.893354</td>\n",
       "      <td>0.39224</td>\n",
       "      <td>-0.294969</td>\n",
       "      <td>0.373523</td>\n",
       "      <td>-0.648804</td>\n",
       "      <td>-1.510450</td>\n",
       "      <td>-0.447112</td>\n",
       "      <td>0</td>\n",
       "    </tr>\n",
       "    <tr>\n",
       "      <td>1</td>\n",
       "      <td>-0.549172</td>\n",
       "      <td>0.615813</td>\n",
       "      <td>1.604453</td>\n",
       "      <td>-0.893354</td>\n",
       "      <td>0.39224</td>\n",
       "      <td>-0.294969</td>\n",
       "      <td>0.373523</td>\n",
       "      <td>-0.648804</td>\n",
       "      <td>-1.510450</td>\n",
       "      <td>-0.447112</td>\n",
       "      <td>0</td>\n",
       "    </tr>\n",
       "    <tr>\n",
       "      <td>2</td>\n",
       "      <td>-0.549172</td>\n",
       "      <td>0.615813</td>\n",
       "      <td>-0.623265</td>\n",
       "      <td>-0.893354</td>\n",
       "      <td>0.39224</td>\n",
       "      <td>-0.294969</td>\n",
       "      <td>0.373523</td>\n",
       "      <td>-0.648804</td>\n",
       "      <td>-1.510450</td>\n",
       "      <td>-0.447112</td>\n",
       "      <td>0</td>\n",
       "    </tr>\n",
       "    <tr>\n",
       "      <td>3</td>\n",
       "      <td>0.511181</td>\n",
       "      <td>-1.623869</td>\n",
       "      <td>-0.623265</td>\n",
       "      <td>-0.893354</td>\n",
       "      <td>0.39224</td>\n",
       "      <td>-0.294969</td>\n",
       "      <td>0.373523</td>\n",
       "      <td>-0.648804</td>\n",
       "      <td>0.662054</td>\n",
       "      <td>-0.447112</td>\n",
       "      <td>0</td>\n",
       "    </tr>\n",
       "    <tr>\n",
       "      <td>4</td>\n",
       "      <td>0.511181</td>\n",
       "      <td>-1.623869</td>\n",
       "      <td>-0.623265</td>\n",
       "      <td>-0.893354</td>\n",
       "      <td>0.39224</td>\n",
       "      <td>-0.294969</td>\n",
       "      <td>0.373523</td>\n",
       "      <td>-0.648804</td>\n",
       "      <td>0.662054</td>\n",
       "      <td>-0.447112</td>\n",
       "      <td>0</td>\n",
       "    </tr>\n",
       "  </tbody>\n",
       "</table>\n",
       "</div>"
      ],
      "text/plain": [
       "   VIV_ESTRATO  SEGURIDAD_SOCIAL_REGIMEN_contributivo  \\\n",
       "0    -0.549172                               0.615813   \n",
       "1    -0.549172                               0.615813   \n",
       "2    -0.549172                               0.615813   \n",
       "3     0.511181                              -1.623869   \n",
       "4     0.511181                              -1.623869   \n",
       "\n",
       "   CONSULTA_MEDICINA_ESPECIALIZADA_SI  VIV_TIPO_casa  \\\n",
       "0                           -0.623265      -0.893354   \n",
       "1                            1.604453      -0.893354   \n",
       "2                           -0.623265      -0.893354   \n",
       "3                           -0.623265      -0.893354   \n",
       "4                           -0.623265      -0.893354   \n",
       "\n",
       "   VIV_CERCANIA_FABRICAS_NO  VIV_CERCANIA_BOTADEROS_SI  \\\n",
       "0                   0.39224                  -0.294969   \n",
       "1                   0.39224                  -0.294969   \n",
       "2                   0.39224                  -0.294969   \n",
       "3                   0.39224                  -0.294969   \n",
       "4                   0.39224                  -0.294969   \n",
       "\n",
       "   VIV_CERCANIA_CANO_AGUAS_NO  SECTOR_CONTAMINACION_AIRE_SI  \\\n",
       "0                    0.373523                     -0.648804   \n",
       "1                    0.373523                     -0.648804   \n",
       "2                    0.373523                     -0.648804   \n",
       "3                    0.373523                     -0.648804   \n",
       "4                    0.373523                     -0.648804   \n",
       "\n",
       "   SECTOR_MAL_OLOR_NO  SECTOR_MAL_MANEJO_BASURAS_SI  \\\n",
       "0           -1.510450                     -0.447112   \n",
       "1           -1.510450                     -0.447112   \n",
       "2           -1.510450                     -0.447112   \n",
       "3            0.662054                     -0.447112   \n",
       "4            0.662054                     -0.447112   \n",
       "\n",
       "   TARGET_ENFERMEDAD_RESPIRATORIA  \n",
       "0                               0  \n",
       "1                               0  \n",
       "2                               0  \n",
       "3                               0  \n",
       "4                               0  "
      ]
     },
     "execution_count": 145,
     "metadata": {},
     "output_type": "execute_result"
    }
   ],
   "source": [
    "df_completo = pd.concat([df_X, y], axis=1)\n",
    "df_completo.head()"
   ]
  },
  {
   "cell_type": "code",
   "execution_count": 150,
   "metadata": {},
   "outputs": [
    {
     "data": {
      "text/html": [
       "<div>\n",
       "<style scoped>\n",
       "    .dataframe tbody tr th:only-of-type {\n",
       "        vertical-align: middle;\n",
       "    }\n",
       "\n",
       "    .dataframe tbody tr th {\n",
       "        vertical-align: top;\n",
       "    }\n",
       "\n",
       "    .dataframe thead th {\n",
       "        text-align: right;\n",
       "    }\n",
       "</style>\n",
       "<table border=\"1\" class=\"dataframe\">\n",
       "  <thead>\n",
       "    <tr style=\"text-align: right;\">\n",
       "      <th></th>\n",
       "      <th>VIV_ESTRATO</th>\n",
       "      <th>SEGURIDAD_SOCIAL_REGIMEN_contributivo</th>\n",
       "      <th>CONSULTA_MEDICINA_ESPECIALIZADA_SI</th>\n",
       "      <th>VIV_TIPO_casa</th>\n",
       "      <th>VIV_CERCANIA_FABRICAS_NO</th>\n",
       "      <th>VIV_CERCANIA_BOTADEROS_SI</th>\n",
       "      <th>VIV_CERCANIA_CANO_AGUAS_NO</th>\n",
       "      <th>SECTOR_CONTAMINACION_AIRE_SI</th>\n",
       "      <th>SECTOR_MAL_OLOR_NO</th>\n",
       "      <th>SECTOR_MAL_MANEJO_BASURAS_SI</th>\n",
       "      <th>TARGET_ENFERMEDAD_RESPIRATORIA</th>\n",
       "    </tr>\n",
       "  </thead>\n",
       "  <tbody>\n",
       "    <tr>\n",
       "      <td>0</td>\n",
       "      <td>-0.549172</td>\n",
       "      <td>0.615813</td>\n",
       "      <td>-0.623265</td>\n",
       "      <td>-0.893354</td>\n",
       "      <td>0.39224</td>\n",
       "      <td>-0.294969</td>\n",
       "      <td>0.373523</td>\n",
       "      <td>-0.648804</td>\n",
       "      <td>-1.510450</td>\n",
       "      <td>-0.447112</td>\n",
       "      <td>0</td>\n",
       "    </tr>\n",
       "    <tr>\n",
       "      <td>1</td>\n",
       "      <td>-0.549172</td>\n",
       "      <td>0.615813</td>\n",
       "      <td>1.604453</td>\n",
       "      <td>-0.893354</td>\n",
       "      <td>0.39224</td>\n",
       "      <td>-0.294969</td>\n",
       "      <td>0.373523</td>\n",
       "      <td>-0.648804</td>\n",
       "      <td>-1.510450</td>\n",
       "      <td>-0.447112</td>\n",
       "      <td>0</td>\n",
       "    </tr>\n",
       "    <tr>\n",
       "      <td>2</td>\n",
       "      <td>-0.549172</td>\n",
       "      <td>0.615813</td>\n",
       "      <td>-0.623265</td>\n",
       "      <td>-0.893354</td>\n",
       "      <td>0.39224</td>\n",
       "      <td>-0.294969</td>\n",
       "      <td>0.373523</td>\n",
       "      <td>-0.648804</td>\n",
       "      <td>-1.510450</td>\n",
       "      <td>-0.447112</td>\n",
       "      <td>0</td>\n",
       "    </tr>\n",
       "    <tr>\n",
       "      <td>3</td>\n",
       "      <td>0.511181</td>\n",
       "      <td>-1.623869</td>\n",
       "      <td>-0.623265</td>\n",
       "      <td>-0.893354</td>\n",
       "      <td>0.39224</td>\n",
       "      <td>-0.294969</td>\n",
       "      <td>0.373523</td>\n",
       "      <td>-0.648804</td>\n",
       "      <td>0.662054</td>\n",
       "      <td>-0.447112</td>\n",
       "      <td>0</td>\n",
       "    </tr>\n",
       "    <tr>\n",
       "      <td>4</td>\n",
       "      <td>0.511181</td>\n",
       "      <td>-1.623869</td>\n",
       "      <td>-0.623265</td>\n",
       "      <td>-0.893354</td>\n",
       "      <td>0.39224</td>\n",
       "      <td>-0.294969</td>\n",
       "      <td>0.373523</td>\n",
       "      <td>-0.648804</td>\n",
       "      <td>0.662054</td>\n",
       "      <td>-0.447112</td>\n",
       "      <td>0</td>\n",
       "    </tr>\n",
       "  </tbody>\n",
       "</table>\n",
       "</div>"
      ],
      "text/plain": [
       "   VIV_ESTRATO  SEGURIDAD_SOCIAL_REGIMEN_contributivo  \\\n",
       "0    -0.549172                               0.615813   \n",
       "1    -0.549172                               0.615813   \n",
       "2    -0.549172                               0.615813   \n",
       "3     0.511181                              -1.623869   \n",
       "4     0.511181                              -1.623869   \n",
       "\n",
       "   CONSULTA_MEDICINA_ESPECIALIZADA_SI  VIV_TIPO_casa  \\\n",
       "0                           -0.623265      -0.893354   \n",
       "1                            1.604453      -0.893354   \n",
       "2                           -0.623265      -0.893354   \n",
       "3                           -0.623265      -0.893354   \n",
       "4                           -0.623265      -0.893354   \n",
       "\n",
       "   VIV_CERCANIA_FABRICAS_NO  VIV_CERCANIA_BOTADEROS_SI  \\\n",
       "0                   0.39224                  -0.294969   \n",
       "1                   0.39224                  -0.294969   \n",
       "2                   0.39224                  -0.294969   \n",
       "3                   0.39224                  -0.294969   \n",
       "4                   0.39224                  -0.294969   \n",
       "\n",
       "   VIV_CERCANIA_CANO_AGUAS_NO  SECTOR_CONTAMINACION_AIRE_SI  \\\n",
       "0                    0.373523                     -0.648804   \n",
       "1                    0.373523                     -0.648804   \n",
       "2                    0.373523                     -0.648804   \n",
       "3                    0.373523                     -0.648804   \n",
       "4                    0.373523                     -0.648804   \n",
       "\n",
       "   SECTOR_MAL_OLOR_NO  SECTOR_MAL_MANEJO_BASURAS_SI  \\\n",
       "0           -1.510450                     -0.447112   \n",
       "1           -1.510450                     -0.447112   \n",
       "2           -1.510450                     -0.447112   \n",
       "3            0.662054                     -0.447112   \n",
       "4            0.662054                     -0.447112   \n",
       "\n",
       "   TARGET_ENFERMEDAD_RESPIRATORIA  \n",
       "0                               0  \n",
       "1                               0  \n",
       "2                               0  \n",
       "3                               0  \n",
       "4                               0  "
      ]
     },
     "execution_count": 150,
     "metadata": {},
     "output_type": "execute_result"
    }
   ],
   "source": [
    "df_majority = df_completo[df_completo.TARGET_ENFERMEDAD_RESPIRATORIA==0]\n",
    "df_minority = df_completo[df_completo.TARGET_ENFERMEDAD_RESPIRATORIA==1]\n",
    "df_majority.head()"
   ]
  },
  {
   "cell_type": "code",
   "execution_count": 151,
   "metadata": {},
   "outputs": [
    {
     "data": {
      "text/plain": [
       "(282135, 11)"
      ]
     },
     "execution_count": 151,
     "metadata": {},
     "output_type": "execute_result"
    }
   ],
   "source": [
    "df_majority.shape"
   ]
  },
  {
   "cell_type": "code",
   "execution_count": 152,
   "metadata": {},
   "outputs": [
    {
     "data": {
      "text/plain": [
       "(9672, 11)"
      ]
     },
     "execution_count": 152,
     "metadata": {},
     "output_type": "execute_result"
    }
   ],
   "source": [
    "df_minority.shape"
   ]
  },
  {
   "cell_type": "code",
   "execution_count": 155,
   "metadata": {},
   "outputs": [
    {
     "data": {
      "text/plain": [
       "1    9672\n",
       "0    9672\n",
       "Name: TARGET_ENFERMEDAD_RESPIRATORIA, dtype: int64"
      ]
     },
     "execution_count": 155,
     "metadata": {},
     "output_type": "execute_result"
    }
   ],
   "source": [
    "from sklearn.utils import resample\n",
    "\n",
    "df_majority_downsampled = resample(df_majority, \n",
    "                                 replace=False,    # sample without replacement\n",
    "                                 n_samples=9672,     # to match minority class\n",
    "                                 random_state=0) # reproducible results\n",
    " \n",
    "# Combine minority class with downsampled majority class\n",
    "df_downsampled = pd.concat([df_majority_downsampled, df_minority])\n",
    " \n",
    "# Display new class counts\n",
    "df_downsampled.TARGET_ENFERMEDAD_RESPIRATORIA.value_counts()"
   ]
  },
  {
   "cell_type": "markdown",
   "metadata": {},
   "source": [
    "### Evaluación con re-muestreo\n",
    "\n",
    "## Tree"
   ]
  },
  {
   "cell_type": "code",
   "execution_count": 158,
   "metadata": {},
   "outputs": [],
   "source": [
    "y_downsampled = df_downsampled.TARGET_ENFERMEDAD_RESPIRATORIA\n",
    "X_downsampled = df_downsampled.drop('TARGET_ENFERMEDAD_RESPIRATORIA', axis=1)"
   ]
  },
  {
   "cell_type": "code",
   "execution_count": 159,
   "metadata": {},
   "outputs": [
    {
     "data": {
      "text/html": [
       "<div>\n",
       "<style scoped>\n",
       "    .dataframe tbody tr th:only-of-type {\n",
       "        vertical-align: middle;\n",
       "    }\n",
       "\n",
       "    .dataframe tbody tr th {\n",
       "        vertical-align: top;\n",
       "    }\n",
       "\n",
       "    .dataframe thead th {\n",
       "        text-align: right;\n",
       "    }\n",
       "</style>\n",
       "<table border=\"1\" class=\"dataframe\">\n",
       "  <thead>\n",
       "    <tr style=\"text-align: right;\">\n",
       "      <th></th>\n",
       "      <th>fit_time</th>\n",
       "      <th>score_time</th>\n",
       "      <th>test_accuracy</th>\n",
       "      <th>test_f1</th>\n",
       "      <th>test_precision</th>\n",
       "      <th>test_recall</th>\n",
       "      <th>test_roc_auc</th>\n",
       "      <th>train_accuracy</th>\n",
       "      <th>train_f1</th>\n",
       "      <th>train_precision</th>\n",
       "      <th>train_recall</th>\n",
       "      <th>train_roc_auc</th>\n",
       "    </tr>\n",
       "  </thead>\n",
       "  <tbody>\n",
       "    <tr>\n",
       "      <td>tree_majority_downsampled</td>\n",
       "      <td>0.028383</td>\n",
       "      <td>0.021704</td>\n",
       "      <td>0.591709</td>\n",
       "      <td>0.559658</td>\n",
       "      <td>0.607153</td>\n",
       "      <td>0.519234</td>\n",
       "      <td>0.610454</td>\n",
       "      <td>0.648073</td>\n",
       "      <td>0.622121</td>\n",
       "      <td>0.671698</td>\n",
       "      <td>0.579496</td>\n",
       "      <td>0.705513</td>\n",
       "    </tr>\n",
       "  </tbody>\n",
       "</table>\n",
       "</div>"
      ],
      "text/plain": [
       "                           fit_time  score_time  test_accuracy   test_f1  \\\n",
       "tree_majority_downsampled  0.028383    0.021704       0.591709  0.559658   \n",
       "\n",
       "                           test_precision  test_recall  test_roc_auc  \\\n",
       "tree_majority_downsampled        0.607153     0.519234      0.610454   \n",
       "\n",
       "                           train_accuracy  train_f1  train_precision  \\\n",
       "tree_majority_downsampled        0.648073  0.622121         0.671698   \n",
       "\n",
       "                           train_recall  train_roc_auc  \n",
       "tree_majority_downsampled      0.579496       0.705513  "
      ]
     },
     "execution_count": 159,
     "metadata": {},
     "output_type": "execute_result"
    }
   ],
   "source": [
    "resultados[\"tree_majority_downsampled\"] = evaluar_modelo(\n",
    "    DecisionTreeClassifier(),\n",
    "    X_downsampled,\n",
    "    y_downsampled\n",
    ")\n",
    "\n",
    "ver_resultados()"
   ]
  },
  {
   "cell_type": "code",
   "execution_count": 160,
   "metadata": {},
   "outputs": [
    {
     "data": {
      "text/html": [
       "<div>\n",
       "<style scoped>\n",
       "    .dataframe tbody tr th:only-of-type {\n",
       "        vertical-align: middle;\n",
       "    }\n",
       "\n",
       "    .dataframe tbody tr th {\n",
       "        vertical-align: top;\n",
       "    }\n",
       "\n",
       "    .dataframe thead th {\n",
       "        text-align: right;\n",
       "    }\n",
       "</style>\n",
       "<table border=\"1\" class=\"dataframe\">\n",
       "  <thead>\n",
       "    <tr style=\"text-align: right;\">\n",
       "      <th></th>\n",
       "      <th>fit_time</th>\n",
       "      <th>score_time</th>\n",
       "      <th>test_roc_auc</th>\n",
       "      <th>train_roc_auc</th>\n",
       "      <th>test_accuracy</th>\n",
       "      <th>train_accuracy</th>\n",
       "      <th>test_precision</th>\n",
       "      <th>train_precision</th>\n",
       "      <th>test_recall</th>\n",
       "      <th>train_recall</th>\n",
       "      <th>test_f1</th>\n",
       "      <th>train_f1</th>\n",
       "    </tr>\n",
       "  </thead>\n",
       "  <tbody>\n",
       "    <tr>\n",
       "      <td>tree_majority_downsampled</td>\n",
       "      <td>0.028383</td>\n",
       "      <td>0.021704</td>\n",
       "      <td>0.610454</td>\n",
       "      <td>0.705513</td>\n",
       "      <td>0.591709</td>\n",
       "      <td>0.648073</td>\n",
       "      <td>0.607153</td>\n",
       "      <td>0.671698</td>\n",
       "      <td>0.519234</td>\n",
       "      <td>0.579496</td>\n",
       "      <td>0.559658</td>\n",
       "      <td>0.622121</td>\n",
       "    </tr>\n",
       "    <tr>\n",
       "      <td>gb_majority_downsampled</td>\n",
       "      <td>1.006115</td>\n",
       "      <td>0.031353</td>\n",
       "      <td>0.641826</td>\n",
       "      <td>0.656395</td>\n",
       "      <td>0.612335</td>\n",
       "      <td>0.619153</td>\n",
       "      <td>0.627652</td>\n",
       "      <td>0.635041</td>\n",
       "      <td>0.551906</td>\n",
       "      <td>0.560415</td>\n",
       "      <td>0.587198</td>\n",
       "      <td>0.595369</td>\n",
       "    </tr>\n",
       "  </tbody>\n",
       "</table>\n",
       "</div>"
      ],
      "text/plain": [
       "                           fit_time  score_time  test_roc_auc  train_roc_auc  \\\n",
       "tree_majority_downsampled  0.028383    0.021704      0.610454       0.705513   \n",
       "gb_majority_downsampled    1.006115    0.031353      0.641826       0.656395   \n",
       "\n",
       "                           test_accuracy  train_accuracy  test_precision  \\\n",
       "tree_majority_downsampled       0.591709        0.648073        0.607153   \n",
       "gb_majority_downsampled         0.612335        0.619153        0.627652   \n",
       "\n",
       "                           train_precision  test_recall  train_recall  \\\n",
       "tree_majority_downsampled         0.671698     0.519234      0.579496   \n",
       "gb_majority_downsampled           0.635041     0.551906      0.560415   \n",
       "\n",
       "                            test_f1  train_f1  \n",
       "tree_majority_downsampled  0.559658  0.622121  \n",
       "gb_majority_downsampled    0.587198  0.595369  "
      ]
     },
     "execution_count": 160,
     "metadata": {},
     "output_type": "execute_result"
    }
   ],
   "source": [
    "resultados[\"gb_majority_downsampled\"] = evaluar_modelo(\n",
    "    GradientBoostingClassifier(),\n",
    "    X_downsampled,\n",
    "    y_downsampled\n",
    ")\n",
    "\n",
    "ver_resultados()"
   ]
  },
  {
   "cell_type": "code",
   "execution_count": 161,
   "metadata": {},
   "outputs": [
    {
     "data": {
      "text/html": [
       "<div>\n",
       "<style scoped>\n",
       "    .dataframe tbody tr th:only-of-type {\n",
       "        vertical-align: middle;\n",
       "    }\n",
       "\n",
       "    .dataframe tbody tr th {\n",
       "        vertical-align: top;\n",
       "    }\n",
       "\n",
       "    .dataframe thead th {\n",
       "        text-align: right;\n",
       "    }\n",
       "</style>\n",
       "<table border=\"1\" class=\"dataframe\">\n",
       "  <thead>\n",
       "    <tr style=\"text-align: right;\">\n",
       "      <th></th>\n",
       "      <th>fit_time</th>\n",
       "      <th>score_time</th>\n",
       "      <th>test_roc_auc</th>\n",
       "      <th>train_roc_auc</th>\n",
       "      <th>test_accuracy</th>\n",
       "      <th>train_accuracy</th>\n",
       "      <th>test_precision</th>\n",
       "      <th>train_precision</th>\n",
       "      <th>test_recall</th>\n",
       "      <th>train_recall</th>\n",
       "      <th>test_f1</th>\n",
       "      <th>train_f1</th>\n",
       "    </tr>\n",
       "  </thead>\n",
       "  <tbody>\n",
       "    <tr>\n",
       "      <td>tree_majority_downsampled</td>\n",
       "      <td>0.028383</td>\n",
       "      <td>0.021704</td>\n",
       "      <td>0.610454</td>\n",
       "      <td>0.705513</td>\n",
       "      <td>0.591709</td>\n",
       "      <td>0.648073</td>\n",
       "      <td>0.607153</td>\n",
       "      <td>0.671698</td>\n",
       "      <td>0.519234</td>\n",
       "      <td>0.579496</td>\n",
       "      <td>0.559658</td>\n",
       "      <td>0.622121</td>\n",
       "    </tr>\n",
       "    <tr>\n",
       "      <td>gb_majority_downsampled</td>\n",
       "      <td>1.006115</td>\n",
       "      <td>0.031353</td>\n",
       "      <td>0.641826</td>\n",
       "      <td>0.656395</td>\n",
       "      <td>0.612335</td>\n",
       "      <td>0.619153</td>\n",
       "      <td>0.627652</td>\n",
       "      <td>0.635041</td>\n",
       "      <td>0.551906</td>\n",
       "      <td>0.560415</td>\n",
       "      <td>0.587198</td>\n",
       "      <td>0.595369</td>\n",
       "    </tr>\n",
       "    <tr>\n",
       "      <td>lr_majority_downsampled</td>\n",
       "      <td>0.058327</td>\n",
       "      <td>0.014118</td>\n",
       "      <td>0.642829</td>\n",
       "      <td>0.646140</td>\n",
       "      <td>0.615230</td>\n",
       "      <td>0.615649</td>\n",
       "      <td>0.631992</td>\n",
       "      <td>0.632687</td>\n",
       "      <td>0.551491</td>\n",
       "      <td>0.551454</td>\n",
       "      <td>0.588870</td>\n",
       "      <td>0.589281</td>\n",
       "    </tr>\n",
       "  </tbody>\n",
       "</table>\n",
       "</div>"
      ],
      "text/plain": [
       "                           fit_time  score_time  test_roc_auc  train_roc_auc  \\\n",
       "tree_majority_downsampled  0.028383    0.021704      0.610454       0.705513   \n",
       "gb_majority_downsampled    1.006115    0.031353      0.641826       0.656395   \n",
       "lr_majority_downsampled    0.058327    0.014118      0.642829       0.646140   \n",
       "\n",
       "                           test_accuracy  train_accuracy  test_precision  \\\n",
       "tree_majority_downsampled       0.591709        0.648073        0.607153   \n",
       "gb_majority_downsampled         0.612335        0.619153        0.627652   \n",
       "lr_majority_downsampled         0.615230        0.615649        0.631992   \n",
       "\n",
       "                           train_precision  test_recall  train_recall  \\\n",
       "tree_majority_downsampled         0.671698     0.519234      0.579496   \n",
       "gb_majority_downsampled           0.635041     0.551906      0.560415   \n",
       "lr_majority_downsampled           0.632687     0.551491      0.551454   \n",
       "\n",
       "                            test_f1  train_f1  \n",
       "tree_majority_downsampled  0.559658  0.622121  \n",
       "gb_majority_downsampled    0.587198  0.595369  \n",
       "lr_majority_downsampled    0.588870  0.589281  "
      ]
     },
     "execution_count": 161,
     "metadata": {},
     "output_type": "execute_result"
    }
   ],
   "source": [
    "resultados[\"lr_majority_downsampled\"] = evaluar_modelo(\n",
    "    LogisticRegression(solver='liblinear'),\n",
    "    X_downsampled,\n",
    "    y_downsampled\n",
    ")\n",
    "\n",
    "ver_resultados()"
   ]
  },
  {
   "cell_type": "code",
   "execution_count": 162,
   "metadata": {},
   "outputs": [
    {
     "data": {
      "text/html": [
       "<div>\n",
       "<style scoped>\n",
       "    .dataframe tbody tr th:only-of-type {\n",
       "        vertical-align: middle;\n",
       "    }\n",
       "\n",
       "    .dataframe tbody tr th {\n",
       "        vertical-align: top;\n",
       "    }\n",
       "\n",
       "    .dataframe thead th {\n",
       "        text-align: right;\n",
       "    }\n",
       "</style>\n",
       "<table border=\"1\" class=\"dataframe\">\n",
       "  <thead>\n",
       "    <tr style=\"text-align: right;\">\n",
       "      <th></th>\n",
       "      <th>fit_time</th>\n",
       "      <th>score_time</th>\n",
       "      <th>test_roc_auc</th>\n",
       "      <th>train_roc_auc</th>\n",
       "      <th>test_accuracy</th>\n",
       "      <th>train_accuracy</th>\n",
       "      <th>test_precision</th>\n",
       "      <th>train_precision</th>\n",
       "      <th>test_recall</th>\n",
       "      <th>train_recall</th>\n",
       "      <th>test_f1</th>\n",
       "      <th>train_f1</th>\n",
       "    </tr>\n",
       "  </thead>\n",
       "  <tbody>\n",
       "    <tr>\n",
       "      <td>tree_majority_downsampled</td>\n",
       "      <td>0.028383</td>\n",
       "      <td>0.021704</td>\n",
       "      <td>0.610454</td>\n",
       "      <td>0.705513</td>\n",
       "      <td>0.591709</td>\n",
       "      <td>0.648073</td>\n",
       "      <td>0.607153</td>\n",
       "      <td>0.671698</td>\n",
       "      <td>0.519234</td>\n",
       "      <td>0.579496</td>\n",
       "      <td>0.559658</td>\n",
       "      <td>0.622121</td>\n",
       "    </tr>\n",
       "    <tr>\n",
       "      <td>gb_majority_downsampled</td>\n",
       "      <td>1.006115</td>\n",
       "      <td>0.031353</td>\n",
       "      <td>0.641826</td>\n",
       "      <td>0.656395</td>\n",
       "      <td>0.612335</td>\n",
       "      <td>0.619153</td>\n",
       "      <td>0.627652</td>\n",
       "      <td>0.635041</td>\n",
       "      <td>0.551906</td>\n",
       "      <td>0.560415</td>\n",
       "      <td>0.587198</td>\n",
       "      <td>0.595369</td>\n",
       "    </tr>\n",
       "    <tr>\n",
       "      <td>lr_majority_downsampled</td>\n",
       "      <td>0.058327</td>\n",
       "      <td>0.014118</td>\n",
       "      <td>0.642829</td>\n",
       "      <td>0.646140</td>\n",
       "      <td>0.615230</td>\n",
       "      <td>0.615649</td>\n",
       "      <td>0.631992</td>\n",
       "      <td>0.632687</td>\n",
       "      <td>0.551491</td>\n",
       "      <td>0.551454</td>\n",
       "      <td>0.588870</td>\n",
       "      <td>0.589281</td>\n",
       "    </tr>\n",
       "    <tr>\n",
       "      <td>svc_majority_downsampled</td>\n",
       "      <td>2.930241</td>\n",
       "      <td>0.014036</td>\n",
       "      <td>0.642775</td>\n",
       "      <td>0.646143</td>\n",
       "      <td>0.614713</td>\n",
       "      <td>0.615419</td>\n",
       "      <td>0.633398</td>\n",
       "      <td>0.634075</td>\n",
       "      <td>0.544254</td>\n",
       "      <td>0.545871</td>\n",
       "      <td>0.585259</td>\n",
       "      <td>0.586672</td>\n",
       "    </tr>\n",
       "  </tbody>\n",
       "</table>\n",
       "</div>"
      ],
      "text/plain": [
       "                           fit_time  score_time  test_roc_auc  train_roc_auc  \\\n",
       "tree_majority_downsampled  0.028383    0.021704      0.610454       0.705513   \n",
       "gb_majority_downsampled    1.006115    0.031353      0.641826       0.656395   \n",
       "lr_majority_downsampled    0.058327    0.014118      0.642829       0.646140   \n",
       "svc_majority_downsampled   2.930241    0.014036      0.642775       0.646143   \n",
       "\n",
       "                           test_accuracy  train_accuracy  test_precision  \\\n",
       "tree_majority_downsampled       0.591709        0.648073        0.607153   \n",
       "gb_majority_downsampled         0.612335        0.619153        0.627652   \n",
       "lr_majority_downsampled         0.615230        0.615649        0.631992   \n",
       "svc_majority_downsampled        0.614713        0.615419        0.633398   \n",
       "\n",
       "                           train_precision  test_recall  train_recall  \\\n",
       "tree_majority_downsampled         0.671698     0.519234      0.579496   \n",
       "gb_majority_downsampled           0.635041     0.551906      0.560415   \n",
       "lr_majority_downsampled           0.632687     0.551491      0.551454   \n",
       "svc_majority_downsampled          0.634075     0.544254      0.545871   \n",
       "\n",
       "                            test_f1  train_f1  \n",
       "tree_majority_downsampled  0.559658  0.622121  \n",
       "gb_majority_downsampled    0.587198  0.595369  \n",
       "lr_majority_downsampled    0.588870  0.589281  \n",
       "svc_majority_downsampled   0.585259  0.586672  "
      ]
     },
     "execution_count": 162,
     "metadata": {},
     "output_type": "execute_result"
    }
   ],
   "source": [
    "resultados[\"svc_majority_downsampled\"] = evaluar_modelo(\n",
    "    LinearSVC(\n",
    "        random_state=0,\n",
    "        penalty='l2',\n",
    "        C=1.0\n",
    "    ),\n",
    "    X_downsampled,\n",
    "    y_downsampled\n",
    ")\n",
    "\n",
    "ver_resultados()"
   ]
  },
  {
   "cell_type": "code",
   "execution_count": 163,
   "metadata": {},
   "outputs": [
    {
     "data": {
      "text/html": [
       "<div>\n",
       "<style scoped>\n",
       "    .dataframe tbody tr th:only-of-type {\n",
       "        vertical-align: middle;\n",
       "    }\n",
       "\n",
       "    .dataframe tbody tr th {\n",
       "        vertical-align: top;\n",
       "    }\n",
       "\n",
       "    .dataframe thead th {\n",
       "        text-align: right;\n",
       "    }\n",
       "</style>\n",
       "<table border=\"1\" class=\"dataframe\">\n",
       "  <thead>\n",
       "    <tr style=\"text-align: right;\">\n",
       "      <th></th>\n",
       "      <th>tree_majority_downsampled</th>\n",
       "      <th>gb_majority_downsampled</th>\n",
       "      <th>lr_majority_downsampled</th>\n",
       "      <th>svc_majority_downsampled</th>\n",
       "    </tr>\n",
       "  </thead>\n",
       "  <tbody>\n",
       "    <tr>\n",
       "      <td>fit_time</td>\n",
       "      <td>0.028383</td>\n",
       "      <td>1.006115</td>\n",
       "      <td>0.058327</td>\n",
       "      <td>2.930241</td>\n",
       "    </tr>\n",
       "    <tr>\n",
       "      <td>score_time</td>\n",
       "      <td>0.021704</td>\n",
       "      <td>0.031353</td>\n",
       "      <td>0.014118</td>\n",
       "      <td>0.014036</td>\n",
       "    </tr>\n",
       "    <tr>\n",
       "      <td>test_roc_auc</td>\n",
       "      <td>0.610454</td>\n",
       "      <td>0.641826</td>\n",
       "      <td>0.642829</td>\n",
       "      <td>0.642775</td>\n",
       "    </tr>\n",
       "    <tr>\n",
       "      <td>train_roc_auc</td>\n",
       "      <td>0.705513</td>\n",
       "      <td>0.656395</td>\n",
       "      <td>0.646140</td>\n",
       "      <td>0.646143</td>\n",
       "    </tr>\n",
       "    <tr>\n",
       "      <td>test_accuracy</td>\n",
       "      <td>0.591709</td>\n",
       "      <td>0.612335</td>\n",
       "      <td>0.615230</td>\n",
       "      <td>0.614713</td>\n",
       "    </tr>\n",
       "    <tr>\n",
       "      <td>train_accuracy</td>\n",
       "      <td>0.648073</td>\n",
       "      <td>0.619153</td>\n",
       "      <td>0.615649</td>\n",
       "      <td>0.615419</td>\n",
       "    </tr>\n",
       "    <tr>\n",
       "      <td>test_precision</td>\n",
       "      <td>0.607153</td>\n",
       "      <td>0.627652</td>\n",
       "      <td>0.631992</td>\n",
       "      <td>0.633398</td>\n",
       "    </tr>\n",
       "    <tr>\n",
       "      <td>train_precision</td>\n",
       "      <td>0.671698</td>\n",
       "      <td>0.635041</td>\n",
       "      <td>0.632687</td>\n",
       "      <td>0.634075</td>\n",
       "    </tr>\n",
       "    <tr>\n",
       "      <td>test_recall</td>\n",
       "      <td>0.519234</td>\n",
       "      <td>0.551906</td>\n",
       "      <td>0.551491</td>\n",
       "      <td>0.544254</td>\n",
       "    </tr>\n",
       "    <tr>\n",
       "      <td>train_recall</td>\n",
       "      <td>0.579496</td>\n",
       "      <td>0.560415</td>\n",
       "      <td>0.551454</td>\n",
       "      <td>0.545871</td>\n",
       "    </tr>\n",
       "    <tr>\n",
       "      <td>test_f1</td>\n",
       "      <td>0.559658</td>\n",
       "      <td>0.587198</td>\n",
       "      <td>0.588870</td>\n",
       "      <td>0.585259</td>\n",
       "    </tr>\n",
       "    <tr>\n",
       "      <td>train_f1</td>\n",
       "      <td>0.622121</td>\n",
       "      <td>0.595369</td>\n",
       "      <td>0.589281</td>\n",
       "      <td>0.586672</td>\n",
       "    </tr>\n",
       "  </tbody>\n",
       "</table>\n",
       "</div>"
      ],
      "text/plain": [
       "                 tree_majority_downsampled  gb_majority_downsampled  \\\n",
       "fit_time                          0.028383                 1.006115   \n",
       "score_time                        0.021704                 0.031353   \n",
       "test_roc_auc                      0.610454                 0.641826   \n",
       "train_roc_auc                     0.705513                 0.656395   \n",
       "test_accuracy                     0.591709                 0.612335   \n",
       "train_accuracy                    0.648073                 0.619153   \n",
       "test_precision                    0.607153                 0.627652   \n",
       "train_precision                   0.671698                 0.635041   \n",
       "test_recall                       0.519234                 0.551906   \n",
       "train_recall                      0.579496                 0.560415   \n",
       "test_f1                           0.559658                 0.587198   \n",
       "train_f1                          0.622121                 0.595369   \n",
       "\n",
       "                 lr_majority_downsampled  svc_majority_downsampled  \n",
       "fit_time                        0.058327                  2.930241  \n",
       "score_time                      0.014118                  0.014036  \n",
       "test_roc_auc                    0.642829                  0.642775  \n",
       "train_roc_auc                   0.646140                  0.646143  \n",
       "test_accuracy                   0.615230                  0.614713  \n",
       "train_accuracy                  0.615649                  0.615419  \n",
       "test_precision                  0.631992                  0.633398  \n",
       "train_precision                 0.632687                  0.634075  \n",
       "test_recall                     0.551491                  0.544254  \n",
       "train_recall                    0.551454                  0.545871  \n",
       "test_f1                         0.588870                  0.585259  \n",
       "train_f1                        0.589281                  0.586672  "
      ]
     },
     "execution_count": 163,
     "metadata": {},
     "output_type": "execute_result"
    }
   ],
   "source": [
    "ver_resultados().T"
   ]
  },
  {
   "cell_type": "markdown",
   "metadata": {},
   "source": [
    "## Optimización de hiperparámetros"
   ]
  },
  {
   "cell_type": "code",
   "execution_count": 197,
   "metadata": {},
   "outputs": [],
   "source": [
    "from sklearn.model_selection import GridSearchCV, RandomizedSearchCV\n",
    "\n",
    "parametros_busqueda_tree = {\n",
    "    \"criterion\": [\"gini\", \"entropy\"],\n",
    "    \"class_weight\": [None, \"balanced\"],\n",
    "    \"max_depth\": [None,10,15,20,25,30,35,40,45,50],\n",
    "    \"min_samples_split\" : [2,4,8,16,32]\n",
    "    #\"max_features\" : [None, \"sqrt\", \"log2\"]\n",
    "}\n",
    "\n",
    "parametros_busqueda_l1_lr = {\n",
    "    \"penalty\" : [\"l1\"],\n",
    "    \"class_weight\": [None, \"balanced\"],\n",
    "    \"solver\" : ['liblinear', 'saga'],\n",
    "    \"max_iter\" : [100, 150, 200, 250, 300]\n",
    "}\n",
    "\n",
    "parametros_busqueda_l2_lr = {\n",
    "    \"penalty\" : [\"none\", \"l2\"],\n",
    "    \"class_weight\": [None, \"balanced\"],\n",
    "    \"solver\" : ['newton-cg', 'sag', 'lbfgs', 'saga'],\n",
    "    \"max_iter\" : [100, 150, 200, 250, 300]\n",
    "}\n",
    "\n",
    "parametros_busqueda_l2_dual_lr = {\n",
    "    \"penalty\" : [\"l2\"],\n",
    "    \"dual\" : [False, True],\n",
    "    \"class_weight\": [None, \"balanced\"],\n",
    "    \"solver\" : ['liblinear'],\n",
    "    \"max_iter\" : [100, 150, 200, 250, 300]\n",
    "}\n",
    "\n",
    "parametros_busqueda_elastic_lr = {\n",
    "    \"penalty\" : [\"elasticnet\"],\n",
    "    \"class_weight\": [None, \"balanced\"],\n",
    "    \"solver\" : ['saga'],\n",
    "    \"max_iter\" : [100, 150, 200, 250, 300],\n",
    "    \"l1_ratio\" : [0.5]\n",
    "}\n",
    "\n",
    "parametros_busqueda_lr = [\n",
    "    parametros_busqueda_l1_lr,\n",
    "    parametros_busqueda_l2_lr,\n",
    "    parametros_busqueda_l2_dual_lr,\n",
    "    parametros_busqueda_elastic_lr\n",
    "]"
   ]
  },
  {
   "cell_type": "code",
   "execution_count": 178,
   "metadata": {},
   "outputs": [],
   "source": [
    "grid_tree = GridSearchCV(\n",
    "    estimator=DecisionTreeClassifier(),\n",
    "    param_grid=parametros_busqueda_tree,\n",
    "    scoring=\"roc_auc\",\n",
    "    n_jobs=-1,\n",
    "    cv=10\n",
    ")"
   ]
  },
  {
   "cell_type": "code",
   "execution_count": 198,
   "metadata": {},
   "outputs": [],
   "source": [
    "grid_lr = GridSearchCV(\n",
    "    estimator=LogisticRegression(),\n",
    "    param_grid=parametros_busqueda_lr,\n",
    "    scoring=\"roc_auc\",\n",
    "    n_jobs=-1,\n",
    "    cv=10\n",
    ")"
   ]
  },
  {
   "cell_type": "code",
   "execution_count": 180,
   "metadata": {},
   "outputs": [
    {
     "data": {
      "text/plain": [
       "GridSearchCV(cv=10, error_score='raise-deprecating',\n",
       "             estimator=DecisionTreeClassifier(class_weight=None,\n",
       "                                              criterion='gini', max_depth=None,\n",
       "                                              max_features=None,\n",
       "                                              max_leaf_nodes=None,\n",
       "                                              min_impurity_decrease=0.0,\n",
       "                                              min_impurity_split=None,\n",
       "                                              min_samples_leaf=1,\n",
       "                                              min_samples_split=2,\n",
       "                                              min_weight_fraction_leaf=0.0,\n",
       "                                              presort=False, random_state=None,\n",
       "                                              splitter='best'),\n",
       "             iid='warn', n_jobs=-1,\n",
       "             param_grid={'class_weight': [None, 'balanced'],\n",
       "                         'criterion': ['gini', 'entropy'],\n",
       "                         'max_depth': [None, 10, 15, 20, 25, 30, 35, 40, 45,\n",
       "                                       50],\n",
       "                         'min_samples_split': [2, 4, 8, 16, 32]},\n",
       "             pre_dispatch='2*n_jobs', refit=True, return_train_score=False,\n",
       "             scoring='roc_auc', verbose=0)"
      ]
     },
     "execution_count": 180,
     "metadata": {},
     "output_type": "execute_result"
    }
   ],
   "source": [
    "grid_tree.fit(ames_X_rfe10_rf, y['TARGET_ENFERMEDAD_RESPIRATORIA'])"
   ]
  },
  {
   "cell_type": "code",
   "execution_count": 120,
   "metadata": {},
   "outputs": [
    {
     "name": "stdout",
     "output_type": "stream",
     "text": [
      "0.6123885657831263\n",
      "DecisionTreeClassifier(class_weight=None, criterion='gini', max_depth=None,\n",
      "                       max_features=None, max_leaf_nodes=None,\n",
      "                       min_impurity_decrease=0.0, min_impurity_split=None,\n",
      "                       min_samples_leaf=1, min_samples_split=2,\n",
      "                       min_weight_fraction_leaf=0.0, presort=False,\n",
      "                       random_state=None, splitter='best')\n"
     ]
    }
   ],
   "source": [
    "print(grid_tree.best_score_)\n",
    "print(grid_tree.best_estimator_)"
   ]
  },
  {
   "cell_type": "code",
   "execution_count": 199,
   "metadata": {},
   "outputs": [
    {
     "data": {
      "text/plain": [
       "GridSearchCV(cv=10, error_score='raise-deprecating',\n",
       "             estimator=LogisticRegression(C=1.0, class_weight=None, dual=False,\n",
       "                                          fit_intercept=True,\n",
       "                                          intercept_scaling=1, l1_ratio=None,\n",
       "                                          max_iter=100, multi_class='warn',\n",
       "                                          n_jobs=None, penalty='l2',\n",
       "                                          random_state=None, solver='warn',\n",
       "                                          tol=0.0001, verbose=0,\n",
       "                                          warm_start=False),\n",
       "             iid='warn', n_jobs=-1,\n",
       "             param_grid=[{'class_weight': [None...\n",
       "                          'solver': ['newton-cg', 'sag', 'lbfgs', 'saga']},\n",
       "                         {'class_weight': [None, 'balanced'],\n",
       "                          'dual': [False, True],\n",
       "                          'max_iter': [100, 150, 200, 250, 300],\n",
       "                          'penalty': ['l2'], 'solver': ['liblinear']},\n",
       "                         {'class_weight': [None, 'balanced'], 'l1_ratio': [0.5],\n",
       "                          'max_iter': [100, 150, 200, 250, 300],\n",
       "                          'penalty': ['elasticnet'], 'solver': ['saga']}],\n",
       "             pre_dispatch='2*n_jobs', refit=True, return_train_score=False,\n",
       "             scoring='roc_auc', verbose=0)"
      ]
     },
     "execution_count": 199,
     "metadata": {},
     "output_type": "execute_result"
    }
   ],
   "source": [
    "grid_lr.fit(X_downsampled, y_downsampled)"
   ]
  },
  {
   "cell_type": "code",
   "execution_count": 200,
   "metadata": {},
   "outputs": [
    {
     "name": "stdout",
     "output_type": "stream",
     "text": [
      "0.6428598092272487\n",
      "LogisticRegression(C=1.0, class_weight='balanced', dual=False,\n",
      "                   fit_intercept=True, intercept_scaling=1, l1_ratio=None,\n",
      "                   max_iter=100, multi_class='warn', n_jobs=None, penalty='l1',\n",
      "                   random_state=None, solver='liblinear', tol=0.0001, verbose=0,\n",
      "                   warm_start=False)\n"
     ]
    }
   ],
   "source": [
    "print(grid_lr.best_score_)\n",
    "print(grid_lr.best_estimator_)"
   ]
  },
  {
   "cell_type": "code",
   "execution_count": 196,
   "metadata": {},
   "outputs": [],
   "source": [
    "LogisticRegression?"
   ]
  },
  {
   "cell_type": "code",
   "execution_count": null,
   "metadata": {},
   "outputs": [],
   "source": []
  }
 ],
 "metadata": {
  "kernelspec": {
   "display_name": "Python 3",
   "language": "python",
   "name": "python3"
  },
  "language_info": {
   "codemirror_mode": {
    "name": "ipython",
    "version": 3
   },
   "file_extension": ".py",
   "mimetype": "text/x-python",
   "name": "python",
   "nbconvert_exporter": "python",
   "pygments_lexer": "ipython3",
   "version": "3.7.4"
  }
 },
 "nbformat": 4,
 "nbformat_minor": 2
}
